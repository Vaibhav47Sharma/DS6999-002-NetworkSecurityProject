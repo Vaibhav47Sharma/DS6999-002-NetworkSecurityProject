{
 "cells": [
  {
   "cell_type": "code",
   "execution_count": 1,
   "metadata": {},
   "outputs": [],
   "source": [
    "import csv, datetime, pandas as pd"
   ]
  },
  {
   "cell_type": "markdown",
   "metadata": {},
   "source": [
    "# Read data for January 2"
   ]
  },
  {
   "cell_type": "code",
   "execution_count": 2,
   "metadata": {},
   "outputs": [
    {
     "name": "stdout",
     "output_type": "stream",
     "text": [
      "(4797, 12)\n"
     ]
    }
   ],
   "source": [
    "file = 'C:\\\\Users\\\\vaibhav\\\\Documents\\\\UVA\\\\Summer\\\\Project\\\\Code\\\\Vaibhav\\\\HoneypotCSV\\\\2018-01-02-mhn.csv'\n",
    "\n",
    "parse_dates = ['timestamp']\n",
    "data = pd.read_csv(file, parse_dates = parse_dates, date_parser = lambda x: datetime.datetime.fromtimestamp(float(x)))\n",
    "pd.to_datetime(data['timestamp'])\n",
    "print(data.shape)"
   ]
  },
  {
   "cell_type": "markdown",
   "metadata": {},
   "source": [
    "Finding out unique sources"
   ]
  },
  {
   "cell_type": "code",
   "execution_count": 4,
   "metadata": {},
   "outputs": [
    {
     "name": "stdout",
     "output_type": "stream",
     "text": [
      "970\n"
     ]
    }
   ],
   "source": [
    "unique_src = data.src.unique()\n",
    "print(len(unique_src))"
   ]
  },
  {
   "cell_type": "markdown",
   "metadata": {},
   "source": [
    "Unique ip sources frequency table"
   ]
  },
  {
   "cell_type": "code",
   "execution_count": 5,
   "metadata": {},
   "outputs": [
    {
     "name": "stdout",
     "output_type": "stream",
     "text": [
      "          Unique src  Count\n",
      "954     94.100.30.46    816\n",
      "436    185.107.94.10    518\n",
      "444  185.186.245.108    490\n",
      "950     93.115.26.45    449\n",
      "632   212.129.39.185    429\n"
     ]
    }
   ],
   "source": [
    "df = data.groupby('src').size().reset_index(name='Count').rename(columns={'src':'Unique src'}).sort_values('Count', ascending = False)\n",
    "print(df.head())"
   ]
  },
  {
   "cell_type": "raw",
   "metadata": {},
   "source": [
    "Top hitting app"
   ]
  },
  {
   "cell_type": "code",
   "execution_count": 6,
   "metadata": {},
   "outputs": [
    {
     "name": "stdout",
     "output_type": "stream",
     "text": [
      "  Unique app  Count\n",
      "1    dionaea   4452\n",
      "0       amun    345\n"
     ]
    }
   ],
   "source": [
    "df = data.groupby('app').size().reset_index(name='Count').rename(columns={'app':'Unique app'}).sort_values('Count', ascending = False)\n",
    "print(df)"
   ]
  },
  {
   "cell_type": "markdown",
   "metadata": {},
   "source": [
    "Grouping by timestamp"
   ]
  },
  {
   "cell_type": "code",
   "execution_count": 7,
   "metadata": {},
   "outputs": [
    {
     "name": "stdout",
     "output_type": "stream",
     "text": [
      "            timestamp  Count\n",
      "0 2018-01-01 06:51:44      2\n",
      "1 2018-01-01 06:52:04      1\n",
      "2 2018-01-01 06:52:14      1\n",
      "3 2018-01-01 06:53:04      2\n",
      "4 2018-01-01 06:53:34      2\n"
     ]
    }
   ],
   "source": [
    "df = data.groupby('timestamp').size().reset_index(name='Count')\n",
    "print(df.head())"
   ]
  },
  {
   "cell_type": "code",
   "execution_count": 3,
   "metadata": {},
   "outputs": [
    {
     "name": "stdout",
     "output_type": "stream",
     "text": [
      "    Hour  Count\n",
      "0      0    162\n",
      "1      1    122\n",
      "2      2    107\n",
      "3      3    107\n",
      "4      4    126\n",
      "5      5     96\n",
      "6      6     92\n",
      "7      7    102\n",
      "8      8     96\n",
      "9      9    130\n",
      "10    10    471\n",
      "11    11    311\n",
      "12    12    352\n",
      "13    13     77\n",
      "14    14    101\n",
      "15    15    572\n",
      "16    16    139\n",
      "17    17    268\n",
      "18    18    517\n",
      "19    19    176\n",
      "20    20    201\n",
      "21    21    154\n",
      "22    22    154\n",
      "23    23    164\n"
     ]
    }
   ],
   "source": [
    "time_series = data.groupby(data.timestamp.dt.hour).size().reset_index(name='Count').rename(columns={'timestamp':'Hour'})\n",
    "print(time_series)"
   ]
  },
  {
   "cell_type": "markdown",
   "metadata": {},
   "source": [
    "Bar chart of time stamp count"
   ]
  },
  {
   "cell_type": "code",
   "execution_count": 5,
   "metadata": {},
   "outputs": [
    {
     "data": {
      "text/plain": [
       "<matplotlib.axes._subplots.AxesSubplot at 0x24403273940>"
      ]
     },
     "execution_count": 5,
     "metadata": {},
     "output_type": "execute_result"
    },
    {
     "data": {
      "image/png": "[encoded data removed]",
      "text/plain": [
       "<Figure size 432x288 with 1 Axes>"
      ]
     },
     "metadata": {},
     "output_type": "display_data"
    }
   ],
   "source": [
    "time_series.plot(kind='bar', x = 'Hour', y = 'Count')"
   ]
  }
 ],
 "metadata": {
  "kernelspec": {
   "display_name": "Python 3",
   "language": "python",
   "name": "python3"
  },
  "language_info": {
   "codemirror_mode": {
    "name": "ipython",
    "version": 3
   },
   "file_extension": ".py",
   "mimetype": "text/x-python",
   "name": "python",
   "nbconvert_exporter": "python",
   "pygments_lexer": "ipython3",
   "version": "3.6.5"
  }
 },
 "nbformat": 4,
 "nbformat_minor": 2
}
