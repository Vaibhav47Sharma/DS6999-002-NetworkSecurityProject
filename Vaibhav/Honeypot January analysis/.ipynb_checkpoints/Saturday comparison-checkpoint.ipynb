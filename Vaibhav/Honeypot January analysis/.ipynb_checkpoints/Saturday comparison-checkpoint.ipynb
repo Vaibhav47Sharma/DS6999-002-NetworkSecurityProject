{
 "cells": [
  {
   "cell_type": "markdown",
   "metadata": {},
   "source": [
    "# Comparison of the Fridays for the Month of January"
   ]
  },
  {
   "cell_type": "code",
   "execution_count": 1,
   "metadata": {},
   "outputs": [],
   "source": [
    "import csv, datetime, pandas as pd"
   ]
  },
  {
   "cell_type": "markdown",
   "metadata": {},
   "source": [
    "Reading data"
   ]
  },
  {
   "cell_type": "code",
   "execution_count": 2,
   "metadata": {},
   "outputs": [
    {
     "name": "stdout",
     "output_type": "stream",
     "text": [
      "(4307, 12)\n",
      "(4159, 12)\n",
      "(2752, 12)\n",
      "(23159, 12)\n"
     ]
    }
   ],
   "source": [
    "file = 'C:\\\\Users\\\\vaibhav\\\\Documents\\\\UVA\\\\Summer\\\\Project\\\\Code\\\\Vaibhav\\\\HoneypotCSV\\\\2018-01-06-mhn.csv'\n",
    "parse_dates = ['timestamp']\n",
    "jan_6_data = pd.read_csv(file, parse_dates = parse_dates, date_parser = lambda x: datetime.datetime.fromtimestamp(float(x)))\n",
    "pd.to_datetime(jan_6_data['timestamp'])\n",
    "print(jan_6_data.shape)\n",
    "\n",
    "file = 'C:\\\\Users\\\\vaibhav\\\\Documents\\\\UVA\\\\Summer\\\\Project\\\\Code\\\\Vaibhav\\\\Vaibhav\\\\HoneypotCSV\\\\2018-01-13-mhn.csv'\n",
    "parse_dates = ['timestamp']\n",
    "jan_13_data = pd.read_csv(file, parse_dates = parse_dates, date_parser = lambda x: datetime.datetime.fromtimestamp(float(x)))\n",
    "pd.to_datetime(jan_13_data['timestamp'])\n",
    "print(jan_13_data.shape)\n",
    "\n",
    "file = 'C:\\\\Users\\\\vaibhav\\\\Documents\\\\UVA\\\\Summer\\\\Project\\\\Code\\\\Vaibhav\\\\HoneypotCSV\\\\2018-01-20-mhn.csv'\n",
    "parse_dates = ['timestamp']\n",
    "jan_20_data = pd.read_csv(file, parse_dates = parse_dates, date_parser = lambda x: datetime.datetime.fromtimestamp(float(x)))\n",
    "pd.to_datetime(jan_20_data['timestamp'])\n",
    "print(jan_20_data.shape)\n",
    "\n",
    "file = 'C:\\\\Users\\\\vaibhav\\\\Documents\\\\UVA\\\\Summer\\\\Project\\\\Code\\\\Vaibhav\\\\HoneypotCSV\\\\2018-01-27-mhn.csv'\n",
    "parse_dates = ['timestamp']\n",
    "jan_27_data = pd.read_csv(file, parse_dates = parse_dates, date_parser = lambda x: datetime.datetime.fromtimestamp(float(x)))\n",
    "pd.to_datetime(jan_27_data['timestamp'])\n",
    "print(jan_27_data.shape)"
   ]
  },
  {
   "cell_type": "code",
   "execution_count": 4,
   "metadata": {},
   "outputs": [],
   "source": [
    "common = pd.merge(jan_6_data, jan_13_data, on = ['src'], how = 'inner')"
   ]
  },
  {
   "cell_type": "code",
   "execution_count": 5,
   "metadata": {},
   "outputs": [],
   "source": [
    "unique_ips = common.src.unique()"
   ]
  },
  {
   "cell_type": "code",
   "execution_count": 6,
   "metadata": {},
   "outputs": [],
   "source": [
    "common = jan_20_data.loc[jan_20_data['src'].isin(unique_ips)]\n",
    "unique_ips = common.src.unique()"
   ]
  },
  {
   "cell_type": "code",
   "execution_count": 7,
   "metadata": {},
   "outputs": [],
   "source": [
    "common = jan_27_data.loc[jan_27_data['src'].isin(unique_ips)]\n",
    "unique_ips = common.src.unique()"
   ]
  },
  {
   "cell_type": "code",
   "execution_count": 8,
   "metadata": {},
   "outputs": [
    {
     "name": "stdout",
     "output_type": "stream",
     "text": [
      "['216.158.238.178' '77.72.82.147' '181.214.87.12' '95.215.1.37'\n",
      " '85.93.20.34' '60.191.38.78' '5.188.203.131' '5.188.10.144' '5.101.0.9'\n",
      " '85.93.20.243' '77.72.82.80' '93.174.95.106' '216.158.238.210'\n",
      " '191.101.167.83' '216.158.238.186' '191.101.167.250' '46.174.191.28'\n",
      " '80.82.77.33' '5.101.40.10' '202.101.6.82' '106.186.20.183'\n",
      " '58.218.205.102' '216.158.239.226' '146.0.77.21' '181.214.87.11'\n",
      " '209.126.136.5' '5.188.86.12' '180.153.229.217' '209.126.136.6'\n",
      " '139.162.102.46' '187.115.165.204' '191.101.167.251' '80.82.77.139'\n",
      " '213.163.97.104' '185.207.205.93' '218.206.167.50' '222.186.15.40'\n",
      " '46.174.191.31' '137.226.113.9' '58.218.213.45' '113.195.145.80']\n",
      "41\n"
     ]
    }
   ],
   "source": [
    "print(unique_ips)\n",
    "print(len(unique_ips))"
   ]
  },
  {
   "cell_type": "code",
   "execution_count": 9,
   "metadata": {},
   "outputs": [],
   "source": [
    "with open('C:\\\\Users\\\\vaibhav\\\\Documents\\\\UVA\\\\Summer\\\\Project\\\\Code\\\\Vaibhav\\\\Jan week 1\\\\Weekwise.csv', 'a', newline = '') as myfile:\n",
    "    wr = csv.writer(myfile, delimiter = ',')\n",
    "    wr.writerow(unique_ips)"
   ]
  }
 ],
 "metadata": {
  "kernelspec": {
   "display_name": "Python 3",
   "language": "python",
   "name": "python3"
  },
  "language_info": {
   "codemirror_mode": {
    "name": "ipython",
    "version": 3
   },
   "file_extension": ".py",
   "mimetype": "text/x-python",
   "name": "python",
   "nbconvert_exporter": "python",
   "pygments_lexer": "ipython3",
   "version": "3.6.5"
  }
 },
 "nbformat": 4,
 "nbformat_minor": 2
}
