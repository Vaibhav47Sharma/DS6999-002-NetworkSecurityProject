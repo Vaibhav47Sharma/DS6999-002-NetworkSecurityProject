{
 "cells": [
  {
   "cell_type": "markdown",
   "metadata": {},
   "source": [
    "# Comparison of the Fridays for the Month of January"
   ]
  },
  {
   "cell_type": "code",
   "execution_count": 1,
   "metadata": {},
   "outputs": [],
   "source": [
    "import csv, datetime, pandas as pd"
   ]
  },
  {
   "cell_type": "markdown",
   "metadata": {},
   "source": [
    "Reading data"
   ]
  },
  {
   "cell_type": "code",
   "execution_count": 3,
   "metadata": {},
   "outputs": [
    {
     "name": "stdout",
     "output_type": "stream",
     "text": [
      "(3509, 12)\n",
      "(3658, 12)\n",
      "(3385, 12)\n",
      "(32222, 12)\n"
     ]
    }
   ],
   "source": [
    "file = 'C:\\\\Users\\\\vaibhav\\\\Documents\\\\UVA\\\\Summer\\\\Project\\\\Code\\\\Vaibhav\\\\HoneypotCSV\\\\2018-01-07-mhn.csv'\n",
    "parse_dates = ['timestamp']\n",
    "jan_7_data = pd.read_csv(file, parse_dates = parse_dates, date_parser = lambda x: datetime.datetime.fromtimestamp(float(x)))\n",
    "pd.to_datetime(jan_7_data['timestamp'])\n",
    "print(jan_7_data.shape)\n",
    "\n",
    "file = 'C:\\\\Users\\\\vaibhav\\\\Documents\\\\UVA\\\\Summer\\\\Project\\\\Code\\\\Vaibhav\\\\HoneypotCSV\\\\2018-01-14-mhn.csv'\n",
    "parse_dates = ['timestamp']\n",
    "jan_14_data = pd.read_csv(file, parse_dates = parse_dates, date_parser = lambda x: datetime.datetime.fromtimestamp(float(x)))\n",
    "pd.to_datetime(jan_14_data['timestamp'])\n",
    "print(jan_14_data.shape)\n",
    "\n",
    "file = 'C:\\\\Users\\\\vaibhav\\\\Documents\\\\UVA\\\\Summer\\\\Project\\\\Code\\\\Vaibhav\\\\HoneypotCSV\\\\2018-01-21-mhn.csv'\n",
    "parse_dates = ['timestamp']\n",
    "jan_21_data = pd.read_csv(file, parse_dates = parse_dates, date_parser = lambda x: datetime.datetime.fromtimestamp(float(x)))\n",
    "pd.to_datetime(jan_21_data['timestamp'])\n",
    "print(jan_21_data.shape)\n",
    "\n",
    "file = 'C:\\\\Users\\\\vaibhav\\\\Documents\\\\UVA\\\\Summer\\\\Project\\\\Code\\\\Vaibhav\\\\HoneypotCSV\\\\2018-01-28-mhn.csv'\n",
    "parse_dates = ['timestamp']\n",
    "jan_28_data = pd.read_csv(file, parse_dates = parse_dates, date_parser = lambda x: datetime.datetime.fromtimestamp(float(x)))\n",
    "pd.to_datetime(jan_28_data['timestamp'])\n",
    "print(jan_28_data.shape)"
   ]
  },
  {
   "cell_type": "code",
   "execution_count": 4,
   "metadata": {},
   "outputs": [],
   "source": [
    "common = pd.merge(jan_7_data, jan_14_data, on = ['src'], how = 'inner')"
   ]
  },
  {
   "cell_type": "code",
   "execution_count": 5,
   "metadata": {},
   "outputs": [],
   "source": [
    "unique_ips = common.src.unique()"
   ]
  },
  {
   "cell_type": "code",
   "execution_count": 8,
   "metadata": {},
   "outputs": [],
   "source": [
    "common = jan_21_data.loc[jan_21_data['src'].isin(unique_ips)]\n",
    "unique_ips = common.src.unique()"
   ]
  },
  {
   "cell_type": "code",
   "execution_count": 9,
   "metadata": {},
   "outputs": [],
   "source": [
    "common = jan_28_data.loc[jan_28_data['src'].isin(unique_ips)]\n",
    "unique_ips = common.src.unique()"
   ]
  },
  {
   "cell_type": "code",
   "execution_count": 10,
   "metadata": {},
   "outputs": [
    {
     "name": "stdout",
     "output_type": "stream",
     "text": [
      "['216.158.238.178' '5.188.86.12' '77.72.82.147' '5.188.10.144'\n",
      " '5.188.203.131' '77.72.82.80' '191.101.167.250' '216.158.238.210'\n",
      " '46.174.191.28' '181.214.87.12' '5.101.0.9' '95.215.1.37'\n",
      " '58.218.205.102' '66.240.205.34' '46.174.191.30' '85.93.20.243'\n",
      " '80.82.77.33' '85.93.20.34' '216.158.238.186' '216.158.239.226'\n",
      " '184.105.139.67' '181.214.87.11' '58.218.213.45' '209.126.136.5'\n",
      " '5.188.86.40' '191.101.167.83' '113.195.145.80' '5.188.86.140'\n",
      " '89.248.167.131' '36.189.242.19' '106.75.18.143' '182.100.67.118'\n",
      " '58.53.219.75' '185.207.205.93' '106.187.52.160' '191.101.167.251'\n",
      " '5.101.40.10' '60.191.38.78' '111.121.193.195' '125.64.94.201'\n",
      " '181.214.87.50']\n",
      "41\n"
     ]
    }
   ],
   "source": [
    "print(unique_ips)\n",
    "print(len(unique_ips))"
   ]
  },
  {
   "cell_type": "code",
   "execution_count": 11,
   "metadata": {},
   "outputs": [],
   "source": [
    "with open('C:\\\\Users\\\\vaibhav\\\\Documents\\\\UVA\\\\Summer\\\\Project\\\\Code\\\\Vaibhav\\\\Jan week 1\\\\Weekwise.csv', 'a', newline = '') as myfile:\n",
    "    wr = csv.writer(myfile, delimiter = ',')\n",
    "    wr.writerow(unique_ips)"
   ]
  }
 ],
 "metadata": {
  "kernelspec": {
   "display_name": "Python 3",
   "language": "python",
   "name": "python3"
  },
  "language_info": {
   "codemirror_mode": {
    "name": "ipython",
    "version": 3
   },
   "file_extension": ".py",
   "mimetype": "text/x-python",
   "name": "python",
   "nbconvert_exporter": "python",
   "pygments_lexer": "ipython3",
   "version": "3.6.5"
  }
 },
 "nbformat": 4,
 "nbformat_minor": 2
}
