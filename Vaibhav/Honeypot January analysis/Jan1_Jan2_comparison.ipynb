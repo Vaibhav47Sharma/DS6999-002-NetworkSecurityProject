{
 "cells": [
  {
   "cell_type": "markdown",
   "metadata": {},
   "source": [
    "# Comparison of January 1 and January 2 data"
   ]
  },
  {
   "cell_type": "code",
   "execution_count": 2,
   "metadata": {},
   "outputs": [],
   "source": [
    "import csv, datetime, pandas as pd"
   ]
  },
  {
   "cell_type": "markdown",
   "metadata": {},
   "source": [
    "Reading January 1 data"
   ]
  },
  {
   "cell_type": "code",
   "execution_count": 3,
   "metadata": {},
   "outputs": [
    {
     "name": "stdout",
     "output_type": "stream",
     "text": [
      "(3453, 12)\n"
     ]
    }
   ],
   "source": [
    "file = 'C:\\\\Users\\\\vaibhav\\\\Documents\\\\UVA\\\\Summer\\\\Project\\\\Code\\\\Vaibhav\\\\HoneypotCSV\\\\2018-01-01-mhn.csv'\n",
    "\n",
    "parse_dates = ['timestamp']\n",
    "jan_1_data = pd.read_csv(file, parse_dates = parse_dates, date_parser = lambda x: datetime.datetime.fromtimestamp(float(x)))\n",
    "pd.to_datetime(jan_1_data['timestamp'])\n",
    "print(jan_1_data.shape)"
   ]
  },
  {
   "cell_type": "markdown",
   "metadata": {},
   "source": [
    "Reading January 2 data"
   ]
  },
  {
   "cell_type": "code",
   "execution_count": 4,
   "metadata": {},
   "outputs": [
    {
     "name": "stdout",
     "output_type": "stream",
     "text": [
      "(4797, 12)\n"
     ]
    }
   ],
   "source": [
    "file = 'C:\\\\Users\\\\vaibhav\\\\Documents\\\\UVA\\\\Summer\\\\Project\\\\Code\\\\Vaibhav\\\\HoneypotCSV\\\\2018-01-02-mhn.csv'\n",
    "\n",
    "parse_dates = ['timestamp']\n",
    "jan_2_data = pd.read_csv(file, parse_dates = parse_dates, date_parser = lambda x: datetime.datetime.fromtimestamp(float(x)))\n",
    "pd.to_datetime(jan_2_data['timestamp'])\n",
    "print(jan_2_data.shape)"
   ]
  },
  {
   "cell_type": "markdown",
   "metadata": {},
   "source": [
    "Unique IP's in January 1"
   ]
  },
  {
   "cell_type": "code",
   "execution_count": 5,
   "metadata": {},
   "outputs": [
    {
     "name": "stdout",
     "output_type": "stream",
     "text": [
      "996\n"
     ]
    }
   ],
   "source": [
    "unique_src_jan_1 = jan_1_data.src.unique()\n",
    "print(len(unique_src_jan_1))"
   ]
  },
  {
   "cell_type": "markdown",
   "metadata": {},
   "source": [
    "Unique IP's in January 2"
   ]
  },
  {
   "cell_type": "code",
   "execution_count": 6,
   "metadata": {},
   "outputs": [
    {
     "name": "stdout",
     "output_type": "stream",
     "text": [
      "970\n"
     ]
    }
   ],
   "source": [
    "unique_src_jan_2 = jan_2_data.src.unique()\n",
    "print(len(unique_src_jan_2))"
   ]
  },
  {
   "cell_type": "markdown",
   "metadata": {},
   "source": [
    "Data Frame of January 1st and 2nd data having a common IP address"
   ]
  },
  {
   "cell_type": "code",
   "execution_count": 7,
   "metadata": {},
   "outputs": [],
   "source": [
    "common = pd.merge(jan_1_data, jan_2_data, how='inner', on=['src'])"
   ]
  },
  {
   "cell_type": "code",
   "execution_count": 12,
   "metadata": {},
   "outputs": [
    {
     "name": "stdout",
     "output_type": "stream",
     "text": [
      "               timestamp_x             src  src_port_x protocol_x  \\\n",
      "0      2017-12-31 06:53:22    5.188.10.103       49354         ip   \n",
      "1      2017-12-31 06:53:22    5.188.10.103       49354         ip   \n",
      "2      2017-12-31 06:53:22    5.188.10.103       49354         ip   \n",
      "3      2017-12-31 06:53:22    5.188.10.103       49354         ip   \n",
      "4      2017-12-31 06:53:22    5.188.10.103       49354         ip   \n",
      "5      2017-12-31 06:53:22    5.188.10.103       49354         ip   \n",
      "6      2017-12-31 06:53:22    5.188.10.103       49354         ip   \n",
      "7      2017-12-31 07:18:13    5.188.10.103       49354         ip   \n",
      "8      2017-12-31 07:18:13    5.188.10.103       49354         ip   \n",
      "9      2017-12-31 07:18:13    5.188.10.103       49354         ip   \n",
      "10     2017-12-31 07:18:13    5.188.10.103       49354         ip   \n",
      "11     2017-12-31 07:18:13    5.188.10.103       49354         ip   \n",
      "12     2017-12-31 07:18:13    5.188.10.103       49354         ip   \n",
      "13     2017-12-31 07:18:13    5.188.10.103       49354         ip   \n",
      "14     2017-12-31 11:24:16    5.188.10.103       49354         ip   \n",
      "15     2017-12-31 11:24:16    5.188.10.103       49354         ip   \n",
      "16     2017-12-31 11:24:16    5.188.10.103       49354         ip   \n",
      "17     2017-12-31 11:24:16    5.188.10.103       49354         ip   \n",
      "18     2017-12-31 11:24:16    5.188.10.103       49354         ip   \n",
      "19     2017-12-31 11:24:16    5.188.10.103       49354         ip   \n",
      "20     2017-12-31 11:24:16    5.188.10.103       49354         ip   \n",
      "21     2018-12-31 20:33:13    5.188.10.103       49354         ip   \n",
      "22     2018-12-31 20:33:13    5.188.10.103       49354         ip   \n",
      "23     2018-12-31 20:33:13    5.188.10.103       49354         ip   \n",
      "24     2018-12-31 20:33:13    5.188.10.103       49354         ip   \n",
      "25     2018-12-31 20:33:13    5.188.10.103       49354         ip   \n",
      "26     2018-12-31 20:33:13    5.188.10.103       49354         ip   \n",
      "27     2018-12-31 20:33:13    5.188.10.103       49354         ip   \n",
      "28     2018-12-31 20:53:34    5.188.10.103       49354         ip   \n",
      "29     2018-12-31 20:53:34    5.188.10.103       49354         ip   \n",
      "...                    ...             ...         ...        ...   \n",
      "277451 2018-01-01 05:51:51  111.206.237.91        5784         ip   \n",
      "277452 2018-01-01 05:51:51  111.206.237.91        5784         ip   \n",
      "277453 2018-01-01 05:51:51  111.206.237.91        5784         ip   \n",
      "277454 2018-01-01 05:51:51  111.206.237.91        5784         ip   \n",
      "277455 2018-01-01 05:51:51  111.206.237.91        5784         ip   \n",
      "277456 2018-01-01 05:51:51  111.206.237.91        5784         ip   \n",
      "277457 2018-01-01 05:51:51  111.206.237.91        5784         ip   \n",
      "277458 2018-01-01 05:51:51  111.206.237.91        5784         ip   \n",
      "277459 2018-01-01 05:51:51  111.206.237.91        6503         ip   \n",
      "277460 2018-01-01 05:51:51  111.206.237.91        6503         ip   \n",
      "277461 2018-01-01 05:51:51  111.206.237.91        6503         ip   \n",
      "277462 2018-01-01 05:51:51  111.206.237.91        6503         ip   \n",
      "277463 2018-01-01 05:51:51  111.206.237.91        6503         ip   \n",
      "277464 2018-01-01 05:51:51  111.206.237.91        6503         ip   \n",
      "277465 2018-01-01 05:51:51  111.206.237.91        6503         ip   \n",
      "277466 2018-01-01 05:51:51  111.206.237.91        6503         ip   \n",
      "277467 2018-01-01 05:51:51  111.206.237.91        6503         ip   \n",
      "277468 2018-01-01 05:51:51  111.206.237.91        6503         ip   \n",
      "277469 2018-01-01 05:51:51  111.206.237.91        6503         ip   \n",
      "277470 2018-01-01 05:51:51  111.206.237.91        6503         ip   \n",
      "277471 2018-01-01 05:51:51  111.206.237.91        6503         ip   \n",
      "277472 2018-01-01 05:51:51  111.206.237.91        6503         ip   \n",
      "277473 2018-01-01 05:51:51  111.206.237.91        6503         ip   \n",
      "277474 2018-01-01 05:51:51  111.206.237.91        6503         ip   \n",
      "277475 2018-01-01 05:51:51  111.206.237.91        6503         ip   \n",
      "277476 2018-01-01 05:51:51  111.206.237.91        6503         ip   \n",
      "277477 2018-01-01 06:27:13   23.110.54.178       50687         ip   \n",
      "277478 2018-01-01 06:32:43   46.174.191.32       51138         ip   \n",
      "277479 2018-01-01 06:32:43   46.174.191.32       51138         ip   \n",
      "277480 2018-01-01 06:32:43   46.174.191.32       51138         ip   \n",
      "\n",
      "                   signature_x  direction_x transport_x    app_x  \\\n",
      "0       Connection to Honeypot            0         tcp  dionaea   \n",
      "1       Connection to Honeypot            0         tcp  dionaea   \n",
      "2       Connection to Honeypot            0         tcp  dionaea   \n",
      "3       Connection to Honeypot            0         tcp  dionaea   \n",
      "4       Connection to Honeypot            0         tcp  dionaea   \n",
      "5       Connection to Honeypot            0         tcp  dionaea   \n",
      "6       Connection to Honeypot            0         tcp  dionaea   \n",
      "7       Connection to Honeypot            0         tcp  dionaea   \n",
      "8       Connection to Honeypot            0         tcp  dionaea   \n",
      "9       Connection to Honeypot            0         tcp  dionaea   \n",
      "10      Connection to Honeypot            0         tcp  dionaea   \n",
      "11      Connection to Honeypot            0         tcp  dionaea   \n",
      "12      Connection to Honeypot            0         tcp  dionaea   \n",
      "13      Connection to Honeypot            0         tcp  dionaea   \n",
      "14      Connection to Honeypot            0         tcp  dionaea   \n",
      "15      Connection to Honeypot            0         tcp  dionaea   \n",
      "16      Connection to Honeypot            0         tcp  dionaea   \n",
      "17      Connection to Honeypot            0         tcp  dionaea   \n",
      "18      Connection to Honeypot            0         tcp  dionaea   \n",
      "19      Connection to Honeypot            0         tcp  dionaea   \n",
      "20      Connection to Honeypot            0         tcp  dionaea   \n",
      "21      Connection to Honeypot            0         tcp  dionaea   \n",
      "22      Connection to Honeypot            0         tcp  dionaea   \n",
      "23      Connection to Honeypot            0         tcp  dionaea   \n",
      "24      Connection to Honeypot            0         tcp  dionaea   \n",
      "25      Connection to Honeypot            0         tcp  dionaea   \n",
      "26      Connection to Honeypot            0         tcp  dionaea   \n",
      "27      Connection to Honeypot            0         tcp  dionaea   \n",
      "28      Connection to Honeypot            0         tcp  dionaea   \n",
      "29      Connection to Honeypot            0         tcp  dionaea   \n",
      "...                        ...          ...         ...      ...   \n",
      "277451  Connection to Honeypot            0         tcp  dionaea   \n",
      "277452  Connection to Honeypot            0         tcp  dionaea   \n",
      "277453  Connection to Honeypot            0         tcp  dionaea   \n",
      "277454  Connection to Honeypot            0         tcp  dionaea   \n",
      "277455  Connection to Honeypot            0         tcp  dionaea   \n",
      "277456  Connection to Honeypot            0         tcp  dionaea   \n",
      "277457  Connection to Honeypot            0         tcp  dionaea   \n",
      "277458  Connection to Honeypot            0         tcp  dionaea   \n",
      "277459  Connection to Honeypot            0         tcp  dionaea   \n",
      "277460  Connection to Honeypot            0         tcp  dionaea   \n",
      "277461  Connection to Honeypot            0         tcp  dionaea   \n",
      "277462  Connection to Honeypot            0         tcp  dionaea   \n",
      "277463  Connection to Honeypot            0         tcp  dionaea   \n",
      "277464  Connection to Honeypot            0         tcp  dionaea   \n",
      "277465  Connection to Honeypot            0         tcp  dionaea   \n",
      "277466  Connection to Honeypot            0         tcp  dionaea   \n",
      "277467  Connection to Honeypot            0         tcp  dionaea   \n",
      "277468  Connection to Honeypot            0         tcp  dionaea   \n",
      "277469  Connection to Honeypot            0         tcp  dionaea   \n",
      "277470  Connection to Honeypot            0         tcp  dionaea   \n",
      "277471  Connection to Honeypot            0         tcp  dionaea   \n",
      "277472  Connection to Honeypot            0         tcp  dionaea   \n",
      "277473  Connection to Honeypot            0         tcp  dionaea   \n",
      "277474  Connection to Honeypot            0         tcp  dionaea   \n",
      "277475  Connection to Honeypot            0         tcp  dionaea   \n",
      "277476  Connection to Honeypot            0         tcp  dionaea   \n",
      "277477  Connection to Honeypot            0         tcp  dionaea   \n",
      "277478  Connection to Honeypot            0         tcp     amun   \n",
      "277479  Connection to Honeypot            0         tcp     amun   \n",
      "277480  Connection to Honeypot            0         tcp     amun   \n",
      "\n",
      "       vendor_product_x                              sensor_x    ...      \\\n",
      "0               Dionaea  94826a7c-d6dd-11e7-832e-623361396534    ...       \n",
      "1               Dionaea  94826a7c-d6dd-11e7-832e-623361396534    ...       \n",
      "2               Dionaea  94826a7c-d6dd-11e7-832e-623361396534    ...       \n",
      "3               Dionaea  94826a7c-d6dd-11e7-832e-623361396534    ...       \n",
      "4               Dionaea  94826a7c-d6dd-11e7-832e-623361396534    ...       \n",
      "5               Dionaea  94826a7c-d6dd-11e7-832e-623361396534    ...       \n",
      "6               Dionaea  94826a7c-d6dd-11e7-832e-623361396534    ...       \n",
      "7               Dionaea  94826a7c-d6dd-11e7-832e-623361396534    ...       \n",
      "8               Dionaea  94826a7c-d6dd-11e7-832e-623361396534    ...       \n",
      "9               Dionaea  94826a7c-d6dd-11e7-832e-623361396534    ...       \n",
      "10              Dionaea  94826a7c-d6dd-11e7-832e-623361396534    ...       \n",
      "11              Dionaea  94826a7c-d6dd-11e7-832e-623361396534    ...       \n",
      "12              Dionaea  94826a7c-d6dd-11e7-832e-623361396534    ...       \n",
      "13              Dionaea  94826a7c-d6dd-11e7-832e-623361396534    ...       \n",
      "14              Dionaea  94826a7c-d6dd-11e7-832e-623361396534    ...       \n",
      "15              Dionaea  94826a7c-d6dd-11e7-832e-623361396534    ...       \n",
      "16              Dionaea  94826a7c-d6dd-11e7-832e-623361396534    ...       \n",
      "17              Dionaea  94826a7c-d6dd-11e7-832e-623361396534    ...       \n",
      "18              Dionaea  94826a7c-d6dd-11e7-832e-623361396534    ...       \n",
      "19              Dionaea  94826a7c-d6dd-11e7-832e-623361396534    ...       \n",
      "20              Dionaea  94826a7c-d6dd-11e7-832e-623361396534    ...       \n",
      "21              Dionaea  94826a7c-d6dd-11e7-832e-623361396534    ...       \n",
      "22              Dionaea  94826a7c-d6dd-11e7-832e-623361396534    ...       \n",
      "23              Dionaea  94826a7c-d6dd-11e7-832e-623361396534    ...       \n",
      "24              Dionaea  94826a7c-d6dd-11e7-832e-623361396534    ...       \n",
      "25              Dionaea  94826a7c-d6dd-11e7-832e-623361396534    ...       \n",
      "26              Dionaea  94826a7c-d6dd-11e7-832e-623361396534    ...       \n",
      "27              Dionaea  94826a7c-d6dd-11e7-832e-623361396534    ...       \n",
      "28              Dionaea  94826a7c-d6dd-11e7-832e-623361396534    ...       \n",
      "29              Dionaea  94826a7c-d6dd-11e7-832e-623361396534    ...       \n",
      "...                 ...                                   ...    ...       \n",
      "277451          Dionaea  94826a7c-d6dd-11e7-832e-623361396534    ...       \n",
      "277452          Dionaea  94826a7c-d6dd-11e7-832e-623361396534    ...       \n",
      "277453          Dionaea  94826a7c-d6dd-11e7-832e-623361396534    ...       \n",
      "277454          Dionaea  94826a7c-d6dd-11e7-832e-623361396534    ...       \n",
      "277455          Dionaea  94826a7c-d6dd-11e7-832e-623361396534    ...       \n",
      "277456          Dionaea  94826a7c-d6dd-11e7-832e-623361396534    ...       \n",
      "277457          Dionaea  94826a7c-d6dd-11e7-832e-623361396534    ...       \n",
      "277458          Dionaea  94826a7c-d6dd-11e7-832e-623361396534    ...       \n",
      "277459          Dionaea  94826a7c-d6dd-11e7-832e-623361396534    ...       \n",
      "277460          Dionaea  94826a7c-d6dd-11e7-832e-623361396534    ...       \n",
      "277461          Dionaea  94826a7c-d6dd-11e7-832e-623361396534    ...       \n",
      "277462          Dionaea  94826a7c-d6dd-11e7-832e-623361396534    ...       \n",
      "277463          Dionaea  94826a7c-d6dd-11e7-832e-623361396534    ...       \n",
      "277464          Dionaea  94826a7c-d6dd-11e7-832e-623361396534    ...       \n",
      "277465          Dionaea  94826a7c-d6dd-11e7-832e-623361396534    ...       \n",
      "277466          Dionaea  94826a7c-d6dd-11e7-832e-623361396534    ...       \n",
      "277467          Dionaea  94826a7c-d6dd-11e7-832e-623361396534    ...       \n",
      "277468          Dionaea  94826a7c-d6dd-11e7-832e-623361396534    ...       \n",
      "277469          Dionaea  94826a7c-d6dd-11e7-832e-623361396534    ...       \n",
      "277470          Dionaea  94826a7c-d6dd-11e7-832e-623361396534    ...       \n",
      "277471          Dionaea  94826a7c-d6dd-11e7-832e-623361396534    ...       \n",
      "277472          Dionaea  94826a7c-d6dd-11e7-832e-623361396534    ...       \n",
      "277473          Dionaea  94826a7c-d6dd-11e7-832e-623361396534    ...       \n",
      "277474          Dionaea  94826a7c-d6dd-11e7-832e-623361396534    ...       \n",
      "277475          Dionaea  94826a7c-d6dd-11e7-832e-623361396534    ...       \n",
      "277476          Dionaea  94826a7c-d6dd-11e7-832e-623361396534    ...       \n",
      "277477          Dionaea  94826a7c-d6dd-11e7-832e-623361396534    ...       \n",
      "277478             Amun  1d290c0a-d481-11e7-a8aa-623361396534    ...       \n",
      "277479             Amun  1d290c0a-d481-11e7-a8aa-623361396534    ...       \n",
      "277480             Amun  1d290c0a-d481-11e7-a8aa-623361396534    ...       \n",
      "\n",
      "       src_port_y protocol_y             signature_y  direction_y transport_y  \\\n",
      "0           49354         ip  Connection to Honeypot            0         tcp   \n",
      "1           49354         ip  Connection to Honeypot            0         tcp   \n",
      "2           49354         ip  Connection to Honeypot            0         tcp   \n",
      "3           49354         ip  Connection to Honeypot            0         tcp   \n",
      "4           49354         ip  Connection to Honeypot            0         tcp   \n",
      "5           49354         ip  Connection to Honeypot            0         tcp   \n",
      "6           49354         ip  Connection to Honeypot            0         tcp   \n",
      "7           49354         ip  Connection to Honeypot            0         tcp   \n",
      "8           49354         ip  Connection to Honeypot            0         tcp   \n",
      "9           49354         ip  Connection to Honeypot            0         tcp   \n",
      "10          49354         ip  Connection to Honeypot            0         tcp   \n",
      "11          49354         ip  Connection to Honeypot            0         tcp   \n",
      "12          49354         ip  Connection to Honeypot            0         tcp   \n",
      "13          49354         ip  Connection to Honeypot            0         tcp   \n",
      "14          49354         ip  Connection to Honeypot            0         tcp   \n",
      "15          49354         ip  Connection to Honeypot            0         tcp   \n",
      "16          49354         ip  Connection to Honeypot            0         tcp   \n",
      "17          49354         ip  Connection to Honeypot            0         tcp   \n",
      "18          49354         ip  Connection to Honeypot            0         tcp   \n",
      "19          49354         ip  Connection to Honeypot            0         tcp   \n",
      "20          49354         ip  Connection to Honeypot            0         tcp   \n",
      "21          49354         ip  Connection to Honeypot            0         tcp   \n",
      "22          49354         ip  Connection to Honeypot            0         tcp   \n",
      "23          49354         ip  Connection to Honeypot            0         tcp   \n",
      "24          49354         ip  Connection to Honeypot            0         tcp   \n",
      "25          49354         ip  Connection to Honeypot            0         tcp   \n",
      "26          49354         ip  Connection to Honeypot            0         tcp   \n",
      "27          49354         ip  Connection to Honeypot            0         tcp   \n",
      "28          49354         ip  Connection to Honeypot            0         tcp   \n",
      "29          49354         ip  Connection to Honeypot            0         tcp   \n",
      "...           ...        ...                     ...          ...         ...   \n",
      "277451       5006         ip  Connection to Honeypot            0         tcp   \n",
      "277452       5185         ip  Connection to Honeypot            0         tcp   \n",
      "277453       5342         ip  Connection to Honeypot            0         tcp   \n",
      "277454       5495         ip  Connection to Honeypot            0         tcp   \n",
      "277455       5372         ip  Connection to Honeypot            0         tcp   \n",
      "277456       5614         ip  Connection to Honeypot            0         tcp   \n",
      "277457       6082         ip  Connection to Honeypot            0         tcp   \n",
      "277458       6422         ip  Connection to Honeypot            0         tcp   \n",
      "277459       5039         ip  Connection to Honeypot            0         tcp   \n",
      "277460       5075         ip  Connection to Honeypot            0         tcp   \n",
      "277461       5533         ip  Connection to Honeypot            0         tcp   \n",
      "277462       5035         ip  Connection to Honeypot            0         tcp   \n",
      "277463       5498         ip  Connection to Honeypot            0         tcp   \n",
      "277464       6824         ip  Connection to Honeypot            0         tcp   \n",
      "277465       5064         ip  Connection to Honeypot            0         tcp   \n",
      "277466       5072         ip  Connection to Honeypot            0         tcp   \n",
      "277467       6756         ip  Connection to Honeypot            0         tcp   \n",
      "277468       5024         ip  Connection to Honeypot            0         tcp   \n",
      "277469       5006         ip  Connection to Honeypot            0         tcp   \n",
      "277470       5185         ip  Connection to Honeypot            0         tcp   \n",
      "277471       5342         ip  Connection to Honeypot            0         tcp   \n",
      "277472       5495         ip  Connection to Honeypot            0         tcp   \n",
      "277473       5372         ip  Connection to Honeypot            0         tcp   \n",
      "277474       5614         ip  Connection to Honeypot            0         tcp   \n",
      "277475       6082         ip  Connection to Honeypot            0         tcp   \n",
      "277476       6422         ip  Connection to Honeypot            0         tcp   \n",
      "277477      29627         ip  Connection to Honeypot            0         tcp   \n",
      "277478      51138         ip  Connection to Honeypot            0         tcp   \n",
      "277479      51138         ip  Connection to Honeypot            0         tcp   \n",
      "277480      51138         ip  Connection to Honeypot            0         tcp   \n",
      "\n",
      "          app_y  vendor_product_y                              sensor_y  \\\n",
      "0       dionaea           Dionaea  94826a7c-d6dd-11e7-832e-623361396534   \n",
      "1       dionaea           Dionaea  94826a7c-d6dd-11e7-832e-623361396534   \n",
      "2       dionaea           Dionaea  94826a7c-d6dd-11e7-832e-623361396534   \n",
      "3       dionaea           Dionaea  94826a7c-d6dd-11e7-832e-623361396534   \n",
      "4       dionaea           Dionaea  94826a7c-d6dd-11e7-832e-623361396534   \n",
      "5       dionaea           Dionaea  94826a7c-d6dd-11e7-832e-623361396534   \n",
      "6       dionaea           Dionaea  94826a7c-d6dd-11e7-832e-623361396534   \n",
      "7       dionaea           Dionaea  94826a7c-d6dd-11e7-832e-623361396534   \n",
      "8       dionaea           Dionaea  94826a7c-d6dd-11e7-832e-623361396534   \n",
      "9       dionaea           Dionaea  94826a7c-d6dd-11e7-832e-623361396534   \n",
      "10      dionaea           Dionaea  94826a7c-d6dd-11e7-832e-623361396534   \n",
      "11      dionaea           Dionaea  94826a7c-d6dd-11e7-832e-623361396534   \n",
      "12      dionaea           Dionaea  94826a7c-d6dd-11e7-832e-623361396534   \n",
      "13      dionaea           Dionaea  94826a7c-d6dd-11e7-832e-623361396534   \n",
      "14      dionaea           Dionaea  94826a7c-d6dd-11e7-832e-623361396534   \n",
      "15      dionaea           Dionaea  94826a7c-d6dd-11e7-832e-623361396534   \n",
      "16      dionaea           Dionaea  94826a7c-d6dd-11e7-832e-623361396534   \n",
      "17      dionaea           Dionaea  94826a7c-d6dd-11e7-832e-623361396534   \n",
      "18      dionaea           Dionaea  94826a7c-d6dd-11e7-832e-623361396534   \n",
      "19      dionaea           Dionaea  94826a7c-d6dd-11e7-832e-623361396534   \n",
      "20      dionaea           Dionaea  94826a7c-d6dd-11e7-832e-623361396534   \n",
      "21      dionaea           Dionaea  94826a7c-d6dd-11e7-832e-623361396534   \n",
      "22      dionaea           Dionaea  94826a7c-d6dd-11e7-832e-623361396534   \n",
      "23      dionaea           Dionaea  94826a7c-d6dd-11e7-832e-623361396534   \n",
      "24      dionaea           Dionaea  94826a7c-d6dd-11e7-832e-623361396534   \n",
      "25      dionaea           Dionaea  94826a7c-d6dd-11e7-832e-623361396534   \n",
      "26      dionaea           Dionaea  94826a7c-d6dd-11e7-832e-623361396534   \n",
      "27      dionaea           Dionaea  94826a7c-d6dd-11e7-832e-623361396534   \n",
      "28      dionaea           Dionaea  94826a7c-d6dd-11e7-832e-623361396534   \n",
      "29      dionaea           Dionaea  94826a7c-d6dd-11e7-832e-623361396534   \n",
      "...         ...               ...                                   ...   \n",
      "277451  dionaea           Dionaea  94826a7c-d6dd-11e7-832e-623361396534   \n",
      "277452  dionaea           Dionaea  94826a7c-d6dd-11e7-832e-623361396534   \n",
      "277453  dionaea           Dionaea  94826a7c-d6dd-11e7-832e-623361396534   \n",
      "277454  dionaea           Dionaea  94826a7c-d6dd-11e7-832e-623361396534   \n",
      "277455  dionaea           Dionaea  94826a7c-d6dd-11e7-832e-623361396534   \n",
      "277456  dionaea           Dionaea  94826a7c-d6dd-11e7-832e-623361396534   \n",
      "277457  dionaea           Dionaea  94826a7c-d6dd-11e7-832e-623361396534   \n",
      "277458  dionaea           Dionaea  94826a7c-d6dd-11e7-832e-623361396534   \n",
      "277459  dionaea           Dionaea  94826a7c-d6dd-11e7-832e-623361396534   \n",
      "277460  dionaea           Dionaea  94826a7c-d6dd-11e7-832e-623361396534   \n",
      "277461  dionaea           Dionaea  94826a7c-d6dd-11e7-832e-623361396534   \n",
      "277462  dionaea           Dionaea  94826a7c-d6dd-11e7-832e-623361396534   \n",
      "277463  dionaea           Dionaea  94826a7c-d6dd-11e7-832e-623361396534   \n",
      "277464  dionaea           Dionaea  94826a7c-d6dd-11e7-832e-623361396534   \n",
      "277465  dionaea           Dionaea  94826a7c-d6dd-11e7-832e-623361396534   \n",
      "277466  dionaea           Dionaea  94826a7c-d6dd-11e7-832e-623361396534   \n",
      "277467  dionaea           Dionaea  94826a7c-d6dd-11e7-832e-623361396534   \n",
      "277468  dionaea           Dionaea  94826a7c-d6dd-11e7-832e-623361396534   \n",
      "277469  dionaea           Dionaea  94826a7c-d6dd-11e7-832e-623361396534   \n",
      "277470  dionaea           Dionaea  94826a7c-d6dd-11e7-832e-623361396534   \n",
      "277471  dionaea           Dionaea  94826a7c-d6dd-11e7-832e-623361396534   \n",
      "277472  dionaea           Dionaea  94826a7c-d6dd-11e7-832e-623361396534   \n",
      "277473  dionaea           Dionaea  94826a7c-d6dd-11e7-832e-623361396534   \n",
      "277474  dionaea           Dionaea  94826a7c-d6dd-11e7-832e-623361396534   \n",
      "277475  dionaea           Dionaea  94826a7c-d6dd-11e7-832e-623361396534   \n",
      "277476  dionaea           Dionaea  94826a7c-d6dd-11e7-832e-623361396534   \n",
      "277477  dionaea           Dionaea  94826a7c-d6dd-11e7-832e-623361396534   \n",
      "277478  dionaea           Dionaea  94826a7c-d6dd-11e7-832e-623361396534   \n",
      "277479  dionaea           Dionaea  94826a7c-d6dd-11e7-832e-623361396534   \n",
      "277480     amun              Amun  1d290c0a-d481-11e7-a8aa-623361396534   \n",
      "\n",
      "                     type_y severity_y  \n",
      "0       dionaea.connections       high  \n",
      "1       dionaea.connections       high  \n",
      "2       dionaea.connections       high  \n",
      "3       dionaea.connections       high  \n",
      "4       dionaea.connections       high  \n",
      "5       dionaea.connections       high  \n",
      "6       dionaea.connections       high  \n",
      "7       dionaea.connections       high  \n",
      "8       dionaea.connections       high  \n",
      "9       dionaea.connections       high  \n",
      "10      dionaea.connections       high  \n",
      "11      dionaea.connections       high  \n",
      "12      dionaea.connections       high  \n",
      "13      dionaea.connections       high  \n",
      "14      dionaea.connections       high  \n",
      "15      dionaea.connections       high  \n",
      "16      dionaea.connections       high  \n",
      "17      dionaea.connections       high  \n",
      "18      dionaea.connections       high  \n",
      "19      dionaea.connections       high  \n",
      "20      dionaea.connections       high  \n",
      "21      dionaea.connections       high  \n",
      "22      dionaea.connections       high  \n",
      "23      dionaea.connections       high  \n",
      "24      dionaea.connections       high  \n",
      "25      dionaea.connections       high  \n",
      "26      dionaea.connections       high  \n",
      "27      dionaea.connections       high  \n",
      "28      dionaea.connections       high  \n",
      "29      dionaea.connections       high  \n",
      "...                     ...        ...  \n",
      "277451  dionaea.connections       high  \n",
      "277452  dionaea.connections       high  \n",
      "277453  dionaea.connections       high  \n",
      "277454  dionaea.connections       high  \n",
      "277455  dionaea.connections       high  \n",
      "277456  dionaea.connections       high  \n",
      "277457  dionaea.connections       high  \n",
      "277458  dionaea.connections       high  \n",
      "277459  dionaea.connections       high  \n",
      "277460  dionaea.connections       high  \n",
      "277461  dionaea.connections       high  \n",
      "277462  dionaea.connections       high  \n",
      "277463  dionaea.connections       high  \n",
      "277464  dionaea.connections       high  \n",
      "277465  dionaea.connections       high  \n",
      "277466  dionaea.connections       high  \n",
      "277467  dionaea.connections       high  \n",
      "277468  dionaea.connections       high  \n",
      "277469  dionaea.connections       high  \n",
      "277470  dionaea.connections       high  \n",
      "277471  dionaea.connections       high  \n",
      "277472  dionaea.connections       high  \n",
      "277473  dionaea.connections       high  \n",
      "277474  dionaea.connections       high  \n",
      "277475  dionaea.connections       high  \n",
      "277476  dionaea.connections       high  \n",
      "277477  dionaea.connections       high  \n",
      "277478  dionaea.connections       high  \n",
      "277479  dionaea.connections       high  \n",
      "277480          amun.events       high  \n",
      "\n",
      "[277481 rows x 23 columns]\n"
     ]
    }
   ],
   "source": [
    "print(common)"
   ]
  },
  {
   "cell_type": "markdown",
   "metadata": {},
   "source": [
    "Number and address of unique IP addresses in the common data frame"
   ]
  },
  {
   "cell_type": "code",
   "execution_count": 8,
   "metadata": {},
   "outputs": [
    {
     "name": "stdout",
     "output_type": "stream",
     "text": [
      "['5.188.10.103' '77.72.82.80' '185.107.94.10' '181.214.87.12'\n",
      " '77.72.82.158' '58.218.205.102' '85.93.20.34' '5.188.10.243'\n",
      " '185.107.94.69' '216.158.238.186' '5.188.10.108' '93.115.26.45'\n",
      " '189.59.8.121' '146.0.77.21' '77.72.82.147' '51.15.152.29' '77.72.82.125'\n",
      " '77.72.82.97' '109.248.9.248' '181.214.87.11' '95.215.1.37'\n",
      " '181.214.87.249' '85.93.20.251' '191.101.167.246' '191.101.167.77'\n",
      " '5.188.86.140' '216.158.238.210' '5.188.10.144' '221.229.204.184'\n",
      " '5.188.87.13' '184.105.139.69' '210.121.164.121' '191.101.167.245'\n",
      " '63.246.129.201' '185.158.115.9' '185.130.212.167' '80.82.77.33'\n",
      " '14.192.125.145' '5.188.86.40' '146.0.243.29' '93.190.138.107'\n",
      " '191.101.167.235' '139.60.160.247' '109.248.9.114' '192.69.94.172'\n",
      " '5.188.203.129' '183.129.254.91' '107.170.61.169' '191.101.167.83'\n",
      " '216.158.239.226' '191.101.167.216' '202.113.109.8' '164.132.136.165'\n",
      " '5.188.86.12' '221.229.166.196' '71.6.158.166' '185.94.111.1'\n",
      " '216.158.238.178' '5.188.86.41' '77.72.85.101' '134.119.218.49'\n",
      " '5.39.216.207' '185.222.211.21' '91.210.104.245' '191.101.167.250'\n",
      " '155.94.64.74' '5.101.0.9' '112.217.150.112' '191.101.167.251'\n",
      " '212.83.177.250' '80.82.77.139' '221.207.32.250' '191.101.167.215'\n",
      " '218.95.250.150' '181.214.87.239' '191.101.167.253' '89.163.227.15'\n",
      " '149.56.76.142' '5.101.40.10' '185.107.94.58' '112.64.91.199'\n",
      " '222.186.32.41' '91.210.104.217' '182.209.230.14' '222.186.50.204'\n",
      " '222.186.15.40' '139.162.102.46' '111.75.222.141' '113.195.145.80'\n",
      " '5.8.18.197' '114.111.223.137' '213.163.97.101' '172.104.108.109'\n",
      " '5.188.10.179' '58.218.213.45' '209.126.136.5' '184.105.247.252'\n",
      " '208.100.26.228' '209.126.136.4' '58.218.213.120' '46.174.191.30'\n",
      " '185.107.83.53' '118.163.152.225' '61.184.73.250' '85.93.20.243'\n",
      " '5.8.18.196' '66.70.169.81' '93.174.95.106' '172.82.183.82'\n",
      " '103.192.253.37' '185.107.94.87' '146.0.77.169' '125.64.94.201'\n",
      " '188.226.146.141' '104.131.141.237' '202.101.6.82' '185.129.148.228'\n",
      " '188.226.191.170' '125.64.94.200' '5.189.164.176' '58.85.43.81'\n",
      " '185.207.205.93' '180.153.229.216' '111.206.237.91' '23.110.54.178'\n",
      " '46.174.191.32']\n",
      "126\n"
     ]
    }
   ],
   "source": [
    "print(common.src.unique())\n",
    "print(len(common.src.unique()))"
   ]
  },
  {
   "cell_type": "code",
   "execution_count": 11,
   "metadata": {},
   "outputs": [
    {
     "name": "stdout",
     "output_type": "stream",
     "text": [
      "(277481, 23)\n",
      "(11763, 23)\n",
      "49\n"
     ]
    }
   ],
   "source": [
    "print(common.shape)\n",
    "common_time_series = common[common.timestamp_x.dt.hour == common.timestamp_y.dt.hour]\n",
    "print(common_time_series.shape)\n",
    "print(len(common_time_series.src.unique()))"
   ]
  },
  {
   "cell_type": "markdown",
   "metadata": {},
   "source": [
    "Common time series based on hourly data"
   ]
  },
  {
   "cell_type": "code",
   "execution_count": 22,
   "metadata": {},
   "outputs": [
    {
     "name": "stdout",
     "output_type": "stream",
     "text": [
      "    Hour  Count\n",
      "0      0    649\n",
      "1      1    235\n",
      "2      2    241\n",
      "3      3     18\n",
      "4      4     33\n",
      "5      5    211\n",
      "6      6    231\n",
      "7      7    205\n",
      "8      8    213\n",
      "9      9    204\n",
      "10    10    170\n",
      "11    11    224\n",
      "12    12    215\n",
      "13    13    219\n",
      "14    14    267\n",
      "15    15    145\n",
      "16    16    834\n",
      "17    17    721\n",
      "18    18    713\n",
      "19    19    822\n",
      "20    20   1234\n",
      "21    21   1304\n",
      "22    22   1305\n",
      "23    23   1350\n"
     ]
    }
   ],
   "source": [
    "common_hour_time_series = common_time_series.groupby(common_time_series.timestamp_x.dt.hour).size().reset_index(name='Count').rename(columns={'timestamp_x':'Hour'})\n",
    "print(common_hour_time_series)"
   ]
  },
  {
   "cell_type": "code",
   "execution_count": 26,
   "metadata": {},
   "outputs": [
    {
     "data": {
      "text/plain": [
       "<matplotlib.axes._subplots.AxesSubplot at 0x1db816597b8>"
      ]
     },
     "execution_count": 26,
     "metadata": {},
     "output_type": "execute_result"
    },
    {
     "data": {
      "image/png": "[encoded data removed]",
      "text/plain": [
       "<Figure size 432x288 with 1 Axes>"
      ]
     },
     "metadata": {},
     "output_type": "display_data"
    }
   ],
   "source": [
    "common_hour_time_series.plot(kind ='bar', x = 'Hour', y = 'Count')"
   ]
  }
 ],
 "metadata": {
  "kernelspec": {
   "display_name": "Python 3",
   "language": "python",
   "name": "python3"
  },
  "language_info": {
   "codemirror_mode": {
    "name": "ipython",
    "version": 3
   },
   "file_extension": ".py",
   "mimetype": "text/x-python",
   "name": "python",
   "nbconvert_exporter": "python",
   "pygments_lexer": "ipython3",
   "version": "3.6.5"
  }
 },
 "nbformat": 4,
 "nbformat_minor": 2
}
