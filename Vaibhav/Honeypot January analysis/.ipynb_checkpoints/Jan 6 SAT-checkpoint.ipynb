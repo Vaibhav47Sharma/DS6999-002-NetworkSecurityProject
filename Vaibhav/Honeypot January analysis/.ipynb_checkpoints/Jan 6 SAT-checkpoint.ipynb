{
 "cells": [
  {
   "cell_type": "code",
   "execution_count": 1,
   "metadata": {},
   "outputs": [],
   "source": [
    "import csv, datetime, pandas as pd"
   ]
  },
  {
   "cell_type": "markdown",
   "metadata": {},
   "source": [
    "# Read data for January 6"
   ]
  },
  {
   "cell_type": "code",
   "execution_count": 2,
   "metadata": {},
   "outputs": [
    {
     "name": "stdout",
     "output_type": "stream",
     "text": [
      "(4307, 12)\n"
     ]
    }
   ],
   "source": [
    "file = 'C:\\\\Users\\\\vaibhav\\\\Documents\\\\UVA\\\\Summer\\\\Project\\\\Code\\\\Vaibhav\\\\HoneypotCSV\\\\2018-01-06-mhn.csv'\n",
    "\n",
    "parse_dates = ['timestamp']\n",
    "data = pd.read_csv(file, parse_dates = parse_dates, date_parser = lambda x: datetime.datetime.fromtimestamp(float(x)))\n",
    "pd.to_datetime(data['timestamp'])\n",
    "print(data.shape)"
   ]
  },
  {
   "cell_type": "markdown",
   "metadata": {},
   "source": [
    "Finding out unique sources"
   ]
  },
  {
   "cell_type": "code",
   "execution_count": 3,
   "metadata": {},
   "outputs": [
    {
     "name": "stdout",
     "output_type": "stream",
     "text": [
      "1038\n"
     ]
    }
   ],
   "source": [
    "unique_src = data.src.unique()\n",
    "print(len(unique_src))"
   ]
  },
  {
   "cell_type": "markdown",
   "metadata": {},
   "source": [
    "Unique ip sources frequency table"
   ]
  },
  {
   "cell_type": "code",
   "execution_count": 4,
   "metadata": {},
   "outputs": [
    {
     "name": "stdout",
     "output_type": "stream",
     "text": [
      "           Unique src  Count\n",
      "440     185.107.94.10    722\n",
      "370    179.184.227.26    587\n",
      "1011     93.115.26.45    505\n",
      "645   208.113.204.247    171\n",
      "714   221.229.204.101     95\n"
     ]
    }
   ],
   "source": [
    "df = data.groupby('src').size().reset_index(name='Count').rename(columns={'src':'Unique src'}).sort_values('Count', ascending = False)\n",
    "print(df.head())"
   ]
  },
  {
   "cell_type": "raw",
   "metadata": {},
   "source": [
    "Top hitting app"
   ]
  },
  {
   "cell_type": "code",
   "execution_count": 5,
   "metadata": {},
   "outputs": [
    {
     "name": "stdout",
     "output_type": "stream",
     "text": [
      "  Unique app  Count\n",
      "1    dionaea   3841\n",
      "0       amun    466\n"
     ]
    }
   ],
   "source": [
    "df = data.groupby('app').size().reset_index(name='Count').rename(columns={'app':'Unique app'}).sort_values('Count', ascending = False)\n",
    "print(df)"
   ]
  },
  {
   "cell_type": "markdown",
   "metadata": {},
   "source": [
    "Grouping by timestamp"
   ]
  },
  {
   "cell_type": "code",
   "execution_count": 8,
   "metadata": {},
   "outputs": [
    {
     "name": "stdout",
     "output_type": "stream",
     "text": [
      "            timestamp  Count\n",
      "0 2018-01-05 06:52:48      1\n",
      "1 2018-01-05 06:53:08      1\n",
      "2 2018-01-05 06:54:08      1\n",
      "3 2018-01-05 06:55:18      1\n",
      "4 2018-01-05 06:55:28      2\n"
     ]
    }
   ],
   "source": [
    "df = data.groupby('timestamp').size().reset_index(name='Count')\n",
    "print(df.head())"
   ]
  },
  {
   "cell_type": "code",
   "execution_count": 3,
   "metadata": {},
   "outputs": [
    {
     "name": "stdout",
     "output_type": "stream",
     "text": [
      "    Hour  Count\n",
      "0      0    155\n",
      "1      1    146\n",
      "2      2    126\n",
      "3      3    103\n",
      "4      4    131\n",
      "5      5    113\n",
      "6      6    211\n",
      "7      7    688\n",
      "8      8     91\n",
      "9      9    109\n",
      "10    10    135\n",
      "11    11    156\n",
      "12    12    181\n",
      "13    13    182\n",
      "14    14    159\n",
      "15    15    141\n",
      "16    16    122\n",
      "17    17    200\n",
      "18    18    187\n",
      "19    19    175\n",
      "20    20    173\n",
      "21    21    174\n",
      "22    22    233\n",
      "23    23    216\n"
     ]
    }
   ],
   "source": [
    "time_series = data.groupby(data.timestamp.dt.hour).size().reset_index(name='Count').rename(columns={'timestamp':'Hour'})\n",
    "print(time_series)"
   ]
  },
  {
   "cell_type": "markdown",
   "metadata": {},
   "source": [
    "## Bar chart of time stamp count"
   ]
  },
  {
   "cell_type": "code",
   "execution_count": 5,
   "metadata": {},
   "outputs": [
    {
     "data": {
      "text/plain": [
       "<matplotlib.axes._subplots.AxesSubplot at 0x16df6cb1e10>"
      ]
     },
     "execution_count": 5,
     "metadata": {},
     "output_type": "execute_result"
    },
    {
     "data": {
      "image/png": "[encoded data removed]",
      "text/plain": [
       "<Figure size 432x288 with 1 Axes>"
      ]
     },
     "metadata": {},
     "output_type": "display_data"
    }
   ],
   "source": [
    "time_series.plot(kind='bar', x = 'Hour', y = 'Count')"
   ]
  }
 ],
 "metadata": {
  "kernelspec": {
   "display_name": "Python 3",
   "language": "python",
   "name": "python3"
  },
  "language_info": {
   "codemirror_mode": {
    "name": "ipython",
    "version": 3
   },
   "file_extension": ".py",
   "mimetype": "text/x-python",
   "name": "python",
   "nbconvert_exporter": "python",
   "pygments_lexer": "ipython3",
   "version": "3.6.5"
  }
 },
 "nbformat": 4,
 "nbformat_minor": 2
}
