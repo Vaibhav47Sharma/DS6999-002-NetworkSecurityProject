{
 "cells": [
  {
   "cell_type": "markdown",
   "metadata": {},
   "source": [
    "# Comparison of January 1 and January 8 data"
   ]
  },
  {
   "cell_type": "code",
   "execution_count": 1,
   "metadata": {},
   "outputs": [],
   "source": [
    "import csv, datetime, pandas as pd"
   ]
  },
  {
   "cell_type": "markdown",
   "metadata": {},
   "source": [
    "Reading January 1 data"
   ]
  },
  {
   "cell_type": "code",
   "execution_count": 2,
   "metadata": {},
   "outputs": [
    {
     "name": "stdout",
     "output_type": "stream",
     "text": [
      "(3453, 12)\n"
     ]
    }
   ],
   "source": [
    "file = 'C:\\\\Users\\\\vaibhav\\\\Documents\\\\UVA\\\\Summer\\\\Project\\\\Code\\\\Vaibhav\\\\HoneypotCSV\\\\2018-01-01-mhn.csv'\n",
    "\n",
    "parse_dates = ['timestamp']\n",
    "jan_1_data = pd.read_csv(file, parse_dates = parse_dates, date_parser = lambda x: datetime.datetime.fromtimestamp(float(x)))\n",
    "pd.to_datetime(jan_1_data['timestamp'])\n",
    "print(jan_1_data.shape)"
   ]
  },
  {
   "cell_type": "markdown",
   "metadata": {},
   "source": [
    "Reading January 8 data"
   ]
  },
  {
   "cell_type": "code",
   "execution_count": 3,
   "metadata": {},
   "outputs": [
    {
     "name": "stdout",
     "output_type": "stream",
     "text": [
      "(2313, 12)\n"
     ]
    }
   ],
   "source": [
    "file = 'C:\\\\Users\\\\vaibhav\\\\Documents\\\\UVA\\\\Summer\\\\Project\\\\Code\\\\Vaibhav\\\\HoneypotCSV\\\\2018-01-08-mhn.csv'\n",
    "\n",
    "parse_dates = ['timestamp']\n",
    "jan_8_data = pd.read_csv(file, parse_dates = parse_dates, date_parser = lambda x: datetime.datetime.fromtimestamp(float(x)))\n",
    "pd.to_datetime(jan_8_data['timestamp'])\n",
    "print(jan_8_data.shape)"
   ]
  },
  {
   "cell_type": "markdown",
   "metadata": {},
   "source": [
    "Unique IP's in January 1"
   ]
  },
  {
   "cell_type": "code",
   "execution_count": 4,
   "metadata": {},
   "outputs": [
    {
     "name": "stdout",
     "output_type": "stream",
     "text": [
      "996\n"
     ]
    }
   ],
   "source": [
    "unique_src_jan_1 = jan_1_data.src.unique()\n",
    "print(len(unique_src_jan_1))"
   ]
  },
  {
   "cell_type": "markdown",
   "metadata": {},
   "source": [
    "Unique IP's in January 8"
   ]
  },
  {
   "cell_type": "code",
   "execution_count": 5,
   "metadata": {},
   "outputs": [
    {
     "name": "stdout",
     "output_type": "stream",
     "text": [
      "922\n"
     ]
    }
   ],
   "source": [
    "unique_src_jan_8 = jan_8_data.src.unique()\n",
    "print(len(unique_src_jan_8))"
   ]
  },
  {
   "cell_type": "markdown",
   "metadata": {},
   "source": [
    "Data Frame of January 1st and 8th data having a common IP address"
   ]
  },
  {
   "cell_type": "code",
   "execution_count": 6,
   "metadata": {},
   "outputs": [],
   "source": [
    "common = pd.merge(jan_1_data, jan_8_data, how='inner', on=['src'])"
   ]
  },
  {
   "cell_type": "markdown",
   "metadata": {},
   "source": [
    "Number and address of unique IP addresses in the common data frame"
   ]
  },
  {
   "cell_type": "code",
   "execution_count": 7,
   "metadata": {},
   "outputs": [
    {
     "name": "stdout",
     "output_type": "stream",
     "text": [
      "['5.188.10.103' '77.72.82.80' '185.107.94.10' '181.214.87.12'\n",
      " '77.72.82.158' '58.218.205.102' '85.93.20.34' '185.107.94.69'\n",
      " '216.158.238.186' '139.162.115.7' '5.188.10.108' '189.59.8.121'\n",
      " '146.0.77.21' '77.72.82.147' '51.15.152.29' '77.72.82.97' '109.248.9.248'\n",
      " '181.214.87.11' '95.215.1.37' '191.101.167.77' '141.105.69.190'\n",
      " '139.162.123.103' '5.188.86.140' '216.158.238.210' '5.188.10.144'\n",
      " '184.105.139.69' '181.214.87.50' '185.130.212.167' '80.82.77.33'\n",
      " '106.186.113.169' '191.101.167.235' '109.248.9.114' '5.188.203.129'\n",
      " '191.101.167.83' '216.158.239.226' '202.113.109.8' '164.132.136.165'\n",
      " '46.174.191.29' '5.188.86.12' '49.5.3.238' '216.158.238.178'\n",
      " '5.188.86.41' '77.72.85.101' '134.119.218.49' '185.222.211.21'\n",
      " '91.210.104.245' '191.101.167.250' '5.101.0.9' '191.101.167.251'\n",
      " '80.82.77.139' '221.207.32.250' '191.101.167.215' '181.214.87.239'\n",
      " '220.197.207.238' '191.101.167.253' '139.162.113.212' '5.101.40.10'\n",
      " '185.107.94.58' '141.212.122.128' '77.72.82.182' '91.210.104.217'\n",
      " '58.53.219.75' '222.186.15.40' '139.162.102.46' '113.195.145.80'\n",
      " '5.8.18.197' '61.180.241.40' '172.104.108.109' '5.188.10.179'\n",
      " '58.218.213.45' '95.215.48.251' '184.105.139.109' '209.126.136.5'\n",
      " '184.105.247.252' '208.100.26.228' '209.126.136.4' '185.107.83.53'\n",
      " '159.89.38.66' '35.198.228.113' '103.29.70.204' '85.93.20.243'\n",
      " '139.162.120.98' '218.206.167.50' '5.8.18.196' '66.70.169.81'\n",
      " '93.174.95.106' '139.162.86.84' '139.162.118.185' '146.0.77.169'\n",
      " '125.64.94.201' '202.101.6.82' '5.189.164.176' '46.174.191.31'\n",
      " '185.207.205.93' '180.153.229.216' '139.162.90.220' '139.162.111.138'\n",
      " '46.174.191.32']\n",
      "98\n"
     ]
    }
   ],
   "source": [
    "print(common.src.unique())\n",
    "print(len(common.src.unique()))"
   ]
  },
  {
   "cell_type": "code",
   "execution_count": 8,
   "metadata": {},
   "outputs": [
    {
     "name": "stdout",
     "output_type": "stream",
     "text": [
      "(104790, 23)\n",
      "(4679, 23)\n",
      "41\n"
     ]
    }
   ],
   "source": [
    "print(common.shape)\n",
    "common_time_series = common[common.timestamp_x.dt.hour == common.timestamp_y.dt.hour]\n",
    "print(common_time_series.shape)\n",
    "print(len(common_time_series.src.unique()))"
   ]
  },
  {
   "cell_type": "code",
   "execution_count": 9,
   "metadata": {},
   "outputs": [
    {
     "name": "stdout",
     "output_type": "stream",
     "text": [
      "    Hour  Count\n",
      "0      0    345\n",
      "1      1    279\n",
      "2      2    252\n",
      "3      3    302\n",
      "4      4    281\n",
      "5      5    293\n",
      "6      6    229\n",
      "7      7     53\n",
      "8      8     27\n",
      "9      9     27\n",
      "10    10     30\n",
      "11    11     27\n",
      "12    12     32\n",
      "13    13     18\n",
      "14    14    161\n",
      "15    15    215\n",
      "16    16    207\n",
      "17    17    208\n",
      "18    18    205\n",
      "19    19    222\n",
      "20    20    288\n",
      "21    21    330\n",
      "22    22    334\n",
      "23    23    314\n"
     ]
    }
   ],
   "source": [
    "common_hour_time_series = common_time_series.groupby(common_time_series.timestamp_x.dt.hour).size().reset_index(name='Count').rename(columns={'timestamp_x':'Hour'})\n",
    "print(common_hour_time_series)"
   ]
  },
  {
   "cell_type": "code",
   "execution_count": 11,
   "metadata": {},
   "outputs": [
    {
     "data": {
      "text/plain": [
       "<matplotlib.axes._subplots.AxesSubplot at 0x20dc8b90710>"
      ]
     },
     "execution_count": 11,
     "metadata": {},
     "output_type": "execute_result"
    },
    {
     "data": {
      "image/png": "[encoded data removed]",
      "text/plain": [
       "<Figure size 432x288 with 1 Axes>"
      ]
     },
     "metadata": {},
     "output_type": "display_data"
    }
   ],
   "source": [
    "common_hour_time_series.plot(kind ='bar', x = 'Hour', y = 'Count')"
   ]
  }
 ],
 "metadata": {
  "kernelspec": {
   "display_name": "Python 3",
   "language": "python",
   "name": "python3"
  },
  "language_info": {
   "codemirror_mode": {
    "name": "ipython",
    "version": 3
   },
   "file_extension": ".py",
   "mimetype": "text/x-python",
   "name": "python",
   "nbconvert_exporter": "python",
   "pygments_lexer": "ipython3",
   "version": "3.6.5"
  }
 },
 "nbformat": 4,
 "nbformat_minor": 2
}
