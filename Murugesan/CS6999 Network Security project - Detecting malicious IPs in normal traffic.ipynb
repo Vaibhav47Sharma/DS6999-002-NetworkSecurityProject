{
 "cells": [
  {
   "cell_type": "markdown",
   "metadata": {},
   "source": [
    "Importing required packages"
   ]
  },
  {
   "cell_type": "code",
   "execution_count": 67,
   "metadata": {},
   "outputs": [],
   "source": [
    "from parsebrologs import ParseBroLogs # To import conn logs \n",
    "import numpy as np\n",
    "import pandas as pd\n",
    "import matplotlib.pyplot as plt\n",
    "import seaborn as sns\n",
    "import re\n",
    "import os\n",
    "import time\n",
    "import json"
   ]
  },
  {
   "cell_type": "markdown",
   "metadata": {},
   "source": [
    "## Regular Traffic Data"
   ]
  },
  {
   "cell_type": "code",
   "execution_count": 2,
   "metadata": {},
   "outputs": [
    {
     "data": {
      "text/plain": [
       "'conn.00_00_00-01_00_00.log'"
      ]
     },
     "execution_count": 2,
     "metadata": {},
     "output_type": "execute_result"
    }
   ],
   "source": [
    "## Reading the conn logs for our analysis\n",
    "os.listdir(os.getcwd() + \"/2018-05-26/\")[0]"
   ]
  },
  {
   "cell_type": "code",
   "execution_count": 3,
   "metadata": {},
   "outputs": [],
   "source": [
    "log_data = ParseBroLogs(\"2018-05-26/conn.00_00_00-01_00_00.log\")\n",
    "regular_traffic = pd.DataFrame(json.loads(log_data.to_json()))"
   ]
  },
  {
   "cell_type": "code",
   "execution_count": 4,
   "metadata": {},
   "outputs": [],
   "source": [
    "#regular_traffic['Time_stamp'] = regular_traffic['ts'].apply(lambda x: time.strftime('%Y-%m-%d %H:%M:%S', time.localtime(pd.to_numeric(x))))"
   ]
  },
  {
   "cell_type": "code",
   "execution_count": 5,
   "metadata": {},
   "outputs": [
    {
     "data": {
      "text/html": [
       "<div>\n",
       "<style scoped>\n",
       "    .dataframe tbody tr th:only-of-type {\n",
       "        vertical-align: middle;\n",
       "    }\n",
       "\n",
       "    .dataframe tbody tr th {\n",
       "        vertical-align: top;\n",
       "    }\n",
       "\n",
       "    .dataframe thead th {\n",
       "        text-align: right;\n",
       "    }\n",
       "</style>\n",
       "<table border=\"1\" class=\"dataframe\">\n",
       "  <thead>\n",
       "    <tr style=\"text-align: right;\">\n",
       "      <th></th>\n",
       "      <th>conn_state</th>\n",
       "      <th>duration</th>\n",
       "      <th>history</th>\n",
       "      <th>id.orig_h</th>\n",
       "      <th>id.orig_p</th>\n",
       "      <th>id.resp_h</th>\n",
       "      <th>id.resp_p</th>\n",
       "      <th>local_orig</th>\n",
       "      <th>local_resp</th>\n",
       "      <th>missed_bytes</th>\n",
       "      <th>orig_bytes</th>\n",
       "      <th>orig_ip_bytes</th>\n",
       "      <th>orig_pkts</th>\n",
       "      <th>proto</th>\n",
       "      <th>resp_bytes</th>\n",
       "      <th>resp_ip_bytes</th>\n",
       "      <th>resp_pkts</th>\n",
       "      <th>service</th>\n",
       "      <th>ts</th>\n",
       "      <th>uid</th>\n",
       "    </tr>\n",
       "  </thead>\n",
       "  <tbody>\n",
       "    <tr>\n",
       "      <th>0</th>\n",
       "      <td>S0</td>\n",
       "      <td>-</td>\n",
       "      <td>S</td>\n",
       "      <td>46.182.25.42</td>\n",
       "      <td>60000</td>\n",
       "      <td>128.143.67.25</td>\n",
       "      <td>8000</td>\n",
       "      <td>F</td>\n",
       "      <td>F</td>\n",
       "      <td>0</td>\n",
       "      <td>-</td>\n",
       "      <td>-</td>\n",
       "      <td>-</td>\n",
       "      <td>tcp</td>\n",
       "      <td>-</td>\n",
       "      <td>-</td>\n",
       "      <td>-</td>\n",
       "      <td>-</td>\n",
       "      <td>1527307194.170627</td>\n",
       "      <td>CI1zj1iwKyHwKBBx9</td>\n",
       "    </tr>\n",
       "    <tr>\n",
       "      <th>1</th>\n",
       "      <td>RSTO</td>\n",
       "      <td>5.802564</td>\n",
       "      <td>ShADadfR</td>\n",
       "      <td>128.143.71.88</td>\n",
       "      <td>38652</td>\n",
       "      <td>52.3.226.246</td>\n",
       "      <td>80</td>\n",
       "      <td>F</td>\n",
       "      <td>F</td>\n",
       "      <td>0</td>\n",
       "      <td>696</td>\n",
       "      <td>-</td>\n",
       "      <td>-</td>\n",
       "      <td>tcp</td>\n",
       "      <td>1837</td>\n",
       "      <td>-</td>\n",
       "      <td>-</td>\n",
       "      <td>http</td>\n",
       "      <td>1527307188.411720</td>\n",
       "      <td>CqGWoa28t2nYR9UzJa</td>\n",
       "    </tr>\n",
       "    <tr>\n",
       "      <th>2</th>\n",
       "      <td>S0</td>\n",
       "      <td>-</td>\n",
       "      <td>S</td>\n",
       "      <td>186.212.105.114</td>\n",
       "      <td>11204</td>\n",
       "      <td>128.143.137.226</td>\n",
       "      <td>23</td>\n",
       "      <td>F</td>\n",
       "      <td>F</td>\n",
       "      <td>0</td>\n",
       "      <td>-</td>\n",
       "      <td>-</td>\n",
       "      <td>-</td>\n",
       "      <td>tcp</td>\n",
       "      <td>-</td>\n",
       "      <td>-</td>\n",
       "      <td>-</td>\n",
       "      <td>-</td>\n",
       "      <td>1527307194.316096</td>\n",
       "      <td>C6RNAOaJg17ubLtH6</td>\n",
       "    </tr>\n",
       "    <tr>\n",
       "      <th>3</th>\n",
       "      <td>S0</td>\n",
       "      <td>-</td>\n",
       "      <td>D</td>\n",
       "      <td>184.105.139.97</td>\n",
       "      <td>60205</td>\n",
       "      <td>199.111.218.190</td>\n",
       "      <td>177</td>\n",
       "      <td>F</td>\n",
       "      <td>F</td>\n",
       "      <td>0</td>\n",
       "      <td>-</td>\n",
       "      <td>-</td>\n",
       "      <td>-</td>\n",
       "      <td>udp</td>\n",
       "      <td>-</td>\n",
       "      <td>-</td>\n",
       "      <td>-</td>\n",
       "      <td>-</td>\n",
       "      <td>1527307139.337981</td>\n",
       "      <td>CUgKV91onic5lFmCm5</td>\n",
       "    </tr>\n",
       "    <tr>\n",
       "      <th>4</th>\n",
       "      <td>SF</td>\n",
       "      <td>119.972539</td>\n",
       "      <td>ShADadFfR</td>\n",
       "      <td>128.143.67.174</td>\n",
       "      <td>53649</td>\n",
       "      <td>23.13.154.167</td>\n",
       "      <td>443</td>\n",
       "      <td>F</td>\n",
       "      <td>F</td>\n",
       "      <td>0</td>\n",
       "      <td>914</td>\n",
       "      <td>-</td>\n",
       "      <td>-</td>\n",
       "      <td>tcp</td>\n",
       "      <td>3337</td>\n",
       "      <td>-</td>\n",
       "      <td>-</td>\n",
       "      <td>ssl</td>\n",
       "      <td>1527307074.521843</td>\n",
       "      <td>CJJmEo2zIyALhBvzNe</td>\n",
       "    </tr>\n",
       "  </tbody>\n",
       "</table>\n",
       "</div>"
      ],
      "text/plain": [
       "  conn_state    duration    history        id.orig_h id.orig_p  \\\n",
       "0         S0           -          S     46.182.25.42     60000   \n",
       "1       RSTO    5.802564   ShADadfR    128.143.71.88     38652   \n",
       "2         S0           -          S  186.212.105.114     11204   \n",
       "3         S0           -          D   184.105.139.97     60205   \n",
       "4         SF  119.972539  ShADadFfR   128.143.67.174     53649   \n",
       "\n",
       "         id.resp_h id.resp_p local_orig local_resp missed_bytes orig_bytes  \\\n",
       "0    128.143.67.25      8000          F          F            0          -   \n",
       "1     52.3.226.246        80          F          F            0        696   \n",
       "2  128.143.137.226        23          F          F            0          -   \n",
       "3  199.111.218.190       177          F          F            0          -   \n",
       "4    23.13.154.167       443          F          F            0        914   \n",
       "\n",
       "  orig_ip_bytes orig_pkts proto resp_bytes resp_ip_bytes resp_pkts service  \\\n",
       "0             -         -   tcp          -             -         -       -   \n",
       "1             -         -   tcp       1837             -         -    http   \n",
       "2             -         -   tcp          -             -         -       -   \n",
       "3             -         -   udp          -             -         -       -   \n",
       "4             -         -   tcp       3337             -         -     ssl   \n",
       "\n",
       "                  ts                 uid  \n",
       "0  1527307194.170627   CI1zj1iwKyHwKBBx9  \n",
       "1  1527307188.411720  CqGWoa28t2nYR9UzJa  \n",
       "2  1527307194.316096   C6RNAOaJg17ubLtH6  \n",
       "3  1527307139.337981  CUgKV91onic5lFmCm5  \n",
       "4  1527307074.521843  CJJmEo2zIyALhBvzNe  "
      ]
     },
     "execution_count": 5,
     "metadata": {},
     "output_type": "execute_result"
    }
   ],
   "source": [
    "regular_traffic.head()"
   ]
  },
  {
   "cell_type": "markdown",
   "metadata": {},
   "source": [
    "## Fireeye data"
   ]
  },
  {
   "cell_type": "code",
   "execution_count": 68,
   "metadata": {},
   "outputs": [
    {
     "data": {
      "text/plain": [
       "'felog-2018-03-16.log'"
      ]
     },
     "execution_count": 68,
     "metadata": {},
     "output_type": "execute_result"
    }
   ],
   "source": [
    "os.listdir(os.getcwd() + \"/fireeye\")[1]"
   ]
  },
  {
   "cell_type": "markdown",
   "metadata": {},
   "source": [
    "#### Function to clean the strings from the input data"
   ]
  },
  {
   "cell_type": "code",
   "execution_count": 69,
   "metadata": {},
   "outputs": [],
   "source": [
    "def replace_string(string, list_of_strings):\n",
    "    \n",
    "    for each in range(len(list_of_strings)):\n",
    "        current_element = list_of_strings[each]\n",
    "        \n",
    "        # Assigning the changes to be made to each string type\n",
    "        starting_str = current_element[0]\n",
    "        ending_str = current_element[1]\n",
    "        str_to_replace = current_element[2]\n",
    "        new_str = current_element[3]\n",
    "        \n",
    "        st = string.find(starting_str)\n",
    "        end = string[st:].find(ending_str)\n",
    "        \n",
    "        string = string[0:st] + string[st:(st+end)].replace(str_to_replace,new_str) + string[(st+end):]\n",
    "        \n",
    "    return string"
   ]
  },
  {
   "cell_type": "markdown",
   "metadata": {},
   "source": [
    "### Reading fireeye files - Fireeye Parser\n",
    "1) Handle the strings - not all are separated by | operator\n",
    "\n",
    "2) First 4 columns are separated by | while the last column is separted by space (not all! Especially columns like rt which has rate in it)"
   ]
  },
  {
   "cell_type": "code",
   "execution_count": 70,
   "metadata": {},
   "outputs": [],
   "source": [
    "file_to_read = \"fireeye/felog-2018-05-26.log\""
   ]
  },
  {
   "cell_type": "code",
   "execution_count": 72,
   "metadata": {},
   "outputs": [],
   "source": [
    "file_lines = []\n",
    "col_names_col1 = ['TimeStamp',\"Server\",\"Warning\",\"CEF\"]\n",
    "col_names = ['Fireeye','CMS_value','ID_no','MC_type','malware','callback_number']\n",
    "\n",
    "with open(file_to_read) as file:\n",
    "    counter = 0\n",
    "    for line in file:\n",
    "        counter += 1\n",
    "        \n",
    "        list_of_dicts = []\n",
    "        split_lines = line.split(\"|\")\n",
    "        split_lines_1 = split_lines[0:7]\n",
    "        split_lines_2 = \" \".join(split_lines[7:])\n",
    "        split_lines_1.append(split_lines_2)\n",
    "        split_lines = split_lines_1\n",
    "        last_element = replace_string(split_lines[-1],[(\"rt=\",\"UTC \",\" \",\"_\"),(\"~~Date:\",\" GMT::\",\" \",\"_\")])\n",
    "        #print(last_element)\n",
    "        \n",
    "        #print(last_element)\n",
    "        last_element = last_element.split(\" \")\n",
    "        first_element = split_lines[0]\n",
    "        current_list = split_lines[1:-1]\n",
    "        \n",
    "        ### Assigning the column names to the current list\n",
    "        \n",
    "        first_element = [col_names_col1[pos]+ \"=\"+value for pos, value in enumerate(first_element.split(\" \"))]\n",
    "        current_list = [col_names[pos]+ \"=\"+value for pos, value in enumerate(current_list)]\n",
    "        \n",
    "        first_element.extend(current_list)\n",
    "        first_element.extend(last_element)\n",
    "        \n",
    "        current_list = first_element\n",
    "        ## Removing the values where we do not have an equal or where we have more than one equal to\n",
    "        \n",
    "        current_list = [each for each in current_list if ((len(re.findall(\"=\",each)) == 1) and (each.find(\"\\\\=\")) == -1) ]\n",
    "        \n",
    "        new_dict = {}\n",
    "        for each in current_list:\n",
    "            split_str = each.split(\"=\")\n",
    "            new_dict[str(split_str[0])] = split_str[1]\n",
    "            \n",
    "        \n",
    "        file_lines.append(new_dict)"
   ]
  },
  {
   "cell_type": "code",
   "execution_count": 73,
   "metadata": {},
   "outputs": [],
   "source": [
    "list_val = ['request']\n",
    "x = ((pd.to_datetime(pd.DataFrame(file_lines)['TimeStamp']) + pd.DateOffset(hours=-32)) - pd.to_datetime(pd.DataFrame(file_lines)['TimeStamp']))"
   ]
  },
  {
   "cell_type": "code",
   "execution_count": 74,
   "metadata": {},
   "outputs": [
    {
     "data": {
      "text/plain": [
       "12:34:56:12:34:56    258\n",
       "a8:d0:e5:e1:1f:1a      2\n",
       "Name: dmac, dtype: int64"
      ]
     },
     "execution_count": 74,
     "metadata": {},
     "output_type": "execute_result"
    }
   ],
   "source": [
    "pd.DataFrame(file_lines).dmac.value_counts()"
   ]
  },
  {
   "cell_type": "code",
   "execution_count": 75,
   "metadata": {},
   "outputs": [],
   "source": [
    "pd.DataFrame.to_csv(pd.DataFrame(file_lines),\"Fireeye_output.csv\",index = False)"
   ]
  },
  {
   "cell_type": "markdown",
   "metadata": {},
   "source": [
    "## HoneyPot - Parser"
   ]
  },
  {
   "cell_type": "markdown",
   "metadata": {},
   "source": [
    "#### Function to clean the strings and convert it to json type"
   ]
  },
  {
   "cell_type": "code",
   "execution_count": 76,
   "metadata": {},
   "outputs": [],
   "source": [
    "#Selecting the input file to be read\n",
    "honeypot_input_data = \"2018-01-26-mhn.log\""
   ]
  },
  {
   "cell_type": "code",
   "execution_count": 77,
   "metadata": {},
   "outputs": [],
   "source": [
    "# Creating Parser to read in the input files\n",
    "honeypot_list_of_dict = []\n",
    "with open(honeypot_input_data,'r') as f:\n",
    "    for each in f:\n",
    "        output = each.split(\"src\",maxsplit = 1)\n",
    "        #'{\"Time stamp\":\"'+output[0].strip()+'\", \"src'+output[1]+'}'\n",
    "        \n",
    "        all_values = ['Time stamp='+ output[0].strip()+ ', src'+output[1] ]\n",
    "        all_values_split = all_values[0].split(\",\")\n",
    "        \n",
    "        new_dict = {}\n",
    "        for each_split in all_values_split:\n",
    "            split_str = each_split.split(\"=\")\n",
    "            new_dict[split_str[0].strip()] = split_str[1].replace(\"\\\"\",\"\")\n",
    "        honeypot_list_of_dict.append(new_dict)"
   ]
  },
  {
   "cell_type": "code",
   "execution_count": 78,
   "metadata": {},
   "outputs": [],
   "source": [
    "honeypot_df = pd.DataFrame(honeypot_list_of_dict)"
   ]
  },
  {
   "cell_type": "markdown",
   "metadata": {},
   "source": [
    "#### Creating date and time fields from the 'Time stamp' column"
   ]
  },
  {
   "cell_type": "code",
   "execution_count": 79,
   "metadata": {},
   "outputs": [
    {
     "data": {
      "text/plain": [
       "1    Jan 25 06:51:34 mhn-s mhn 2018-01-25T11:51:31....\n",
       "2    Jan 25 06:52:24 mhn-s mhn 2018-01-25T11:52:18....\n",
       "3    Jan 25 06:52:24 mhn-s mhn 2018-01-25T11:52:23....\n",
       "4    Jan 25 06:52:54 mhn-s mhn 2018-01-25T11:52:52....\n",
       "Name: Time stamp, dtype: object"
      ]
     },
     "execution_count": 79,
     "metadata": {},
     "output_type": "execute_result"
    }
   ],
   "source": [
    "honeypot_df['Time stamp'][1:5]"
   ]
  },
  {
   "cell_type": "code",
   "execution_count": 80,
   "metadata": {},
   "outputs": [],
   "source": [
    "# Creating time stamp format column using the column 'Time stamp'\n",
    "honeypot_df = pd.concat([honeypot_df,pd.DataFrame(honeypot_df['Time stamp'].str.split(\"mhn\").tolist(), columns = ['time_stamp1','time_stamp2','time_stamp3'])],axis = 1)\n",
    "honeypot_df = pd.concat([honeypot_df,pd.DataFrame(honeypot_df['time_stamp3'].str.split(\"T\").tolist(), columns = ['date','time'])], axis = 1)"
   ]
  },
  {
   "cell_type": "markdown",
   "metadata": {},
   "source": [
    "### Creating Time stamp of unix format"
   ]
  },
  {
   "cell_type": "code",
   "execution_count": 81,
   "metadata": {},
   "outputs": [],
   "source": [
    "honeypot_df['ts_unix'] = honeypot_df['time'].apply(lambda x: pd.to_datetime(x).timestamp())"
   ]
  },
  {
   "cell_type": "code",
   "execution_count": 82,
   "metadata": {},
   "outputs": [],
   "source": [
    "#Removing intermediate columns created\n",
    "honeypot_df.drop(['time_stamp1','time_stamp2','time_stamp3'], axis = 1, inplace = True)"
   ]
  },
  {
   "cell_type": "code",
   "execution_count": 13,
   "metadata": {},
   "outputs": [
    {
     "data": {
      "text/html": [
       "<div>\n",
       "<style scoped>\n",
       "    .dataframe tbody tr th:only-of-type {\n",
       "        vertical-align: middle;\n",
       "    }\n",
       "\n",
       "    .dataframe tbody tr th {\n",
       "        vertical-align: top;\n",
       "    }\n",
       "\n",
       "    .dataframe thead th {\n",
       "        text-align: right;\n",
       "    }\n",
       "</style>\n",
       "<table border=\"1\" class=\"dataframe\">\n",
       "  <thead>\n",
       "    <tr style=\"text-align: right;\">\n",
       "      <th></th>\n",
       "      <th>Time stamp</th>\n",
       "      <th>app</th>\n",
       "      <th>dest</th>\n",
       "      <th>dest_port</th>\n",
       "      <th>dionaea_action</th>\n",
       "      <th>direction</th>\n",
       "      <th>ids_type</th>\n",
       "      <th>protocol</th>\n",
       "      <th>sensor</th>\n",
       "      <th>severity</th>\n",
       "      <th>signature</th>\n",
       "      <th>src</th>\n",
       "      <th>src_port</th>\n",
       "      <th>transport</th>\n",
       "      <th>type</th>\n",
       "      <th>vendor_product</th>\n",
       "      <th>date</th>\n",
       "      <th>time</th>\n",
       "      <th>ts_unix</th>\n",
       "    </tr>\n",
       "  </thead>\n",
       "  <tbody>\n",
       "    <tr>\n",
       "      <th>0</th>\n",
       "      <td>Jan 25 06:51:24 mhn-s mhn 2018-01-25T11:51:18....</td>\n",
       "      <td>amun</td>\n",
       "      <td>128.143.31.40</td>\n",
       "      <td>23</td>\n",
       "      <td>NaN</td>\n",
       "      <td>inbound</td>\n",
       "      <td>network</td>\n",
       "      <td>ip</td>\n",
       "      <td>1d290c0a-d481-11e7-a8aa-623361396534</td>\n",
       "      <td>high\\n</td>\n",
       "      <td>Connection to Honeypot</td>\n",
       "      <td>95.9.147.107</td>\n",
       "      <td>32873</td>\n",
       "      <td>tcp</td>\n",
       "      <td>amun.events</td>\n",
       "      <td>Amun</td>\n",
       "      <td>2018-01-25</td>\n",
       "      <td>11:51:18.527918</td>\n",
       "      <td>1.533556e+09</td>\n",
       "    </tr>\n",
       "    <tr>\n",
       "      <th>1</th>\n",
       "      <td>Jan 25 06:51:34 mhn-s mhn 2018-01-25T11:51:31....</td>\n",
       "      <td>amun</td>\n",
       "      <td>128.143.31.40</td>\n",
       "      <td>443</td>\n",
       "      <td>NaN</td>\n",
       "      <td>inbound</td>\n",
       "      <td>network</td>\n",
       "      <td>ip</td>\n",
       "      <td>1d290c0a-d481-11e7-a8aa-623361396534</td>\n",
       "      <td>high\\n</td>\n",
       "      <td>Connection to Honeypot</td>\n",
       "      <td>163.172.169.150</td>\n",
       "      <td>40889</td>\n",
       "      <td>tcp</td>\n",
       "      <td>amun.events</td>\n",
       "      <td>Amun</td>\n",
       "      <td>2018-01-25</td>\n",
       "      <td>11:51:31.432181</td>\n",
       "      <td>1.533556e+09</td>\n",
       "    </tr>\n",
       "    <tr>\n",
       "      <th>2</th>\n",
       "      <td>Jan 25 06:52:24 mhn-s mhn 2018-01-25T11:52:18....</td>\n",
       "      <td>dionaea</td>\n",
       "      <td>128.143.31.34</td>\n",
       "      <td>555</td>\n",
       "      <td>reject</td>\n",
       "      <td>inbound</td>\n",
       "      <td>network</td>\n",
       "      <td>ip</td>\n",
       "      <td>94826a7c-d6dd-11e7-832e-623361396534</td>\n",
       "      <td>high\\n</td>\n",
       "      <td>Connection to Honeypot</td>\n",
       "      <td>202.101.6.82</td>\n",
       "      <td>48526</td>\n",
       "      <td>tcp</td>\n",
       "      <td>dionaea.connections</td>\n",
       "      <td>Dionaea</td>\n",
       "      <td>2018-01-25</td>\n",
       "      <td>11:52:18.128934</td>\n",
       "      <td>1.533556e+09</td>\n",
       "    </tr>\n",
       "    <tr>\n",
       "      <th>3</th>\n",
       "      <td>Jan 25 06:52:24 mhn-s mhn 2018-01-25T11:52:23....</td>\n",
       "      <td>dionaea</td>\n",
       "      <td>128.143.31.34</td>\n",
       "      <td>23</td>\n",
       "      <td>reject</td>\n",
       "      <td>inbound</td>\n",
       "      <td>network</td>\n",
       "      <td>ip</td>\n",
       "      <td>94826a7c-d6dd-11e7-832e-623361396534</td>\n",
       "      <td>high\\n</td>\n",
       "      <td>Connection to Honeypot</td>\n",
       "      <td>177.135.93.75</td>\n",
       "      <td>17996</td>\n",
       "      <td>tcp</td>\n",
       "      <td>dionaea.connections</td>\n",
       "      <td>Dionaea</td>\n",
       "      <td>2018-01-25</td>\n",
       "      <td>11:52:23.280891</td>\n",
       "      <td>1.533556e+09</td>\n",
       "    </tr>\n",
       "    <tr>\n",
       "      <th>4</th>\n",
       "      <td>Jan 25 06:52:54 mhn-s mhn 2018-01-25T11:52:52....</td>\n",
       "      <td>amun</td>\n",
       "      <td>128.143.31.40</td>\n",
       "      <td>23</td>\n",
       "      <td>NaN</td>\n",
       "      <td>inbound</td>\n",
       "      <td>network</td>\n",
       "      <td>ip</td>\n",
       "      <td>1d290c0a-d481-11e7-a8aa-623361396534</td>\n",
       "      <td>high\\n</td>\n",
       "      <td>Connection to Honeypot</td>\n",
       "      <td>200.58.177.206</td>\n",
       "      <td>33625</td>\n",
       "      <td>tcp</td>\n",
       "      <td>amun.events</td>\n",
       "      <td>Amun</td>\n",
       "      <td>2018-01-25</td>\n",
       "      <td>11:52:52.066108</td>\n",
       "      <td>1.533556e+09</td>\n",
       "    </tr>\n",
       "  </tbody>\n",
       "</table>\n",
       "</div>"
      ],
      "text/plain": [
       "                                          Time stamp      app           dest  \\\n",
       "0  Jan 25 06:51:24 mhn-s mhn 2018-01-25T11:51:18....     amun  128.143.31.40   \n",
       "1  Jan 25 06:51:34 mhn-s mhn 2018-01-25T11:51:31....     amun  128.143.31.40   \n",
       "2  Jan 25 06:52:24 mhn-s mhn 2018-01-25T11:52:18....  dionaea  128.143.31.34   \n",
       "3  Jan 25 06:52:24 mhn-s mhn 2018-01-25T11:52:23....  dionaea  128.143.31.34   \n",
       "4  Jan 25 06:52:54 mhn-s mhn 2018-01-25T11:52:52....     amun  128.143.31.40   \n",
       "\n",
       "  dest_port dionaea_action direction ids_type protocol  \\\n",
       "0        23            NaN   inbound  network       ip   \n",
       "1       443            NaN   inbound  network       ip   \n",
       "2       555         reject   inbound  network       ip   \n",
       "3        23         reject   inbound  network       ip   \n",
       "4        23            NaN   inbound  network       ip   \n",
       "\n",
       "                                 sensor severity               signature  \\\n",
       "0  1d290c0a-d481-11e7-a8aa-623361396534   high\\n  Connection to Honeypot   \n",
       "1  1d290c0a-d481-11e7-a8aa-623361396534   high\\n  Connection to Honeypot   \n",
       "2  94826a7c-d6dd-11e7-832e-623361396534   high\\n  Connection to Honeypot   \n",
       "3  94826a7c-d6dd-11e7-832e-623361396534   high\\n  Connection to Honeypot   \n",
       "4  1d290c0a-d481-11e7-a8aa-623361396534   high\\n  Connection to Honeypot   \n",
       "\n",
       "               src src_port transport                 type vendor_product  \\\n",
       "0     95.9.147.107    32873       tcp          amun.events           Amun   \n",
       "1  163.172.169.150    40889       tcp          amun.events           Amun   \n",
       "2     202.101.6.82    48526       tcp  dionaea.connections        Dionaea   \n",
       "3    177.135.93.75    17996       tcp  dionaea.connections        Dionaea   \n",
       "4   200.58.177.206    33625       tcp          amun.events           Amun   \n",
       "\n",
       "          date             time       ts_unix  \n",
       "0   2018-01-25  11:51:18.527918  1.533556e+09  \n",
       "1   2018-01-25  11:51:31.432181  1.533556e+09  \n",
       "2   2018-01-25  11:52:18.128934  1.533556e+09  \n",
       "3   2018-01-25  11:52:23.280891  1.533556e+09  \n",
       "4   2018-01-25  11:52:52.066108  1.533556e+09  "
      ]
     },
     "execution_count": 13,
     "metadata": {},
     "output_type": "execute_result"
    }
   ],
   "source": [
    "honeypot_df.head()"
   ]
  },
  {
   "cell_type": "markdown",
   "metadata": {},
   "source": [
    "#### Creating honeypot data flag which will be helpful in identifying honeypot data after joining with regular traffic"
   ]
  },
  {
   "cell_type": "code",
   "execution_count": 14,
   "metadata": {},
   "outputs": [],
   "source": [
    "honeypot_df['honeypot_flag'] = 1"
   ]
  },
  {
   "cell_type": "markdown",
   "metadata": {},
   "source": [
    "#### Randomly assigning few regular addresses as honeypot IPs - for validation of search algorithm"
   ]
  },
  {
   "cell_type": "code",
   "execution_count": 15,
   "metadata": {},
   "outputs": [
    {
     "name": "stdout",
     "output_type": "stream",
     "text": [
      "0      176.58.243.77\n",
      "1       5.188.11.188\n",
      "2       77.72.82.166\n",
      "3     80.211.132.218\n",
      "4        218.2.0.190\n",
      "5    205.209.128.239\n",
      "6    103.212.222.138\n",
      "7     80.211.132.218\n",
      "8       138.68.87.53\n",
      "9     222.186.172.48\n",
      "Name: src, dtype: object\n",
      "0       185.94.111.1\n",
      "1       103.48.71.72\n",
      "2     223.81.204.209\n",
      "3     185.232.28.194\n",
      "4     199.111.218.73\n",
      "5     192.36.164.162\n",
      "6     223.97.182.124\n",
      "7    106.226.100.145\n",
      "8    199.111.227.207\n",
      "9     73.163.210.243\n",
      "Name: id.orig_h, dtype: object\n"
     ]
    }
   ],
   "source": [
    "sample_index = honeypot_df['src'].sample(10,random_state = 0).reset_index(drop = True)\n",
    "sample_regular = regular_traffic['id.orig_h'].sample(10, random_state = 0).reset_index(drop = True)\n",
    "\n",
    "print(sample_index)\n",
    "print(sample_regular)"
   ]
  },
  {
   "cell_type": "code",
   "execution_count": 16,
   "metadata": {},
   "outputs": [],
   "source": [
    "for each in range(len(sample_index)):\n",
    "    honeypot_df['src'].replace(sample_index[each],sample_regular[each],inplace = True)"
   ]
  },
  {
   "cell_type": "markdown",
   "metadata": {},
   "source": [
    "## Search Algorithm"
   ]
  },
  {
   "cell_type": "code",
   "execution_count": 17,
   "metadata": {},
   "outputs": [],
   "source": [
    "#Time should be in python datetime format\n",
    "def search_algo(normal_traffic, honeypot_traffic, IP_join, Time_join, time_window = 120 * 24):\n",
    "    \n",
    "    \n",
    "    normal_traffic['row_id'] = normal_traffic.index #Creating a column for row_id\n",
    "    \n",
    "    #Joining all the datasets based on the IP address\n",
    "    normal_honeypot_match = normal_traffic.merge(honeypot_traffic,left_on=IP_join[0],right_on=IP_join[1],how='left') \n",
    "    \n",
    "    #Calculating the time difference of normal traffic IP and honeypot traffic IP\n",
    "    time_diff = pd.to_numeric(normal_honeypot_match[Time_join[0]])- normal_honeypot_match[Time_join[1]]\n",
    "    normal_honeypot_match['Time_difference'] = np.abs(time_diff)/3600\n",
    "    \n",
    "    ### Filtering only the matches based on the time window condition\n",
    "    normal_honeypot_match = normal_honeypot_match[normal_honeypot_match.Time_difference <= time_window]\n",
    "    \n",
    "    ### Now the final dataset should have all the IP addresses regular + honeypot\n",
    "    ### Since we have filtered the honeypot IPs we select the non-honeypot ones from regular traffic \n",
    "    \n",
    "    #Filtering the row_ids to be included - those which do not match with the honeypot matches\n",
    "    \n",
    "    unique_honeypot_row_ids = normal_honeypot_match.row_id.unique()\n",
    "    list_out = [each for each in normal_traffic['row_id'] if each not in unique_honeypot_row_ids]\n",
    "    \n",
    "    ## Selecting corresponding rows from normal_traffic\n",
    "    \n",
    "    normal_traffic_subset = normal_traffic[normal_traffic['row_id'].isin(list_out)]\n",
    "    \n",
    "    normal_traffic_subset['honeypot_flag'] = 0\n",
    "    \n",
    "    ##### COMBINING NORMAL DATA AND HONEYPOT DATA\n",
    "    combined_data = pd.concat([normal_traffic_subset,normal_honeypot_match], axis = 0, ignore_index = True)\n",
    "    combined_data_out = combined_data[normal_traffic_subset.columns].drop_duplicates()\n",
    "    \n",
    "    #combined_data_out would not contain all the rows as per normal traffic with an additional flag for honeypot traffic\n",
    "    \n",
    "    return combined_data_out"
   ]
  },
  {
   "cell_type": "markdown",
   "metadata": {},
   "source": [
    "## Implementing Search Algorithm to compare Honeypot and Regular traffic"
   ]
  },
  {
   "cell_type": "code",
   "execution_count": 18,
   "metadata": {},
   "outputs": [
    {
     "name": "stderr",
     "output_type": "stream",
     "text": [
      "C:\\Users\\arvra\\Anaconda3\\lib\\site-packages\\ipykernel_launcher.py:29: SettingWithCopyWarning: \n",
      "A value is trying to be set on a copy of a slice from a DataFrame.\n",
      "Try using .loc[row_indexer,col_indexer] = value instead\n",
      "\n",
      "See the caveats in the documentation: http://pandas.pydata.org/pandas-docs/stable/indexing.html#indexing-view-versus-copy\n"
     ]
    }
   ],
   "source": [
    "#Note : The time column should be of unix format\n",
    "reg_traffic_with_flags = search_algo(regular_traffic,honeypot_df,['id.orig_h','src'],['ts','ts_unix'])"
   ]
  },
  {
   "cell_type": "markdown",
   "metadata": {},
   "source": [
    "### Creating normal Timestamp from unix timestamps"
   ]
  },
  {
   "cell_type": "code",
   "execution_count": 19,
   "metadata": {},
   "outputs": [],
   "source": [
    "reg_traffic_with_flags['Time_stamp'] = reg_traffic_with_flags['ts'].apply(lambda x: time.strftime('%Y-%m-%d %H:%M:%S', time.localtime(pd.to_numeric(x))))"
   ]
  },
  {
   "cell_type": "code",
   "execution_count": 20,
   "metadata": {},
   "outputs": [],
   "source": [
    "reg_traffic_with_flags['Hour'] = pd.to_datetime(reg_traffic_with_flags.Time_stamp).dt.hour\n",
    "reg_traffic_with_flags['Day'] = pd.to_datetime(reg_traffic_with_flags.Time_stamp).dt.day\n",
    "reg_traffic_with_flags['Month'] = pd.to_datetime(reg_traffic_with_flags.Time_stamp).dt.month"
   ]
  },
  {
   "cell_type": "code",
   "execution_count": 37,
   "metadata": {},
   "outputs": [
    {
     "data": {
      "text/plain": [
       "False    457881\n",
       "True     181412\n",
       "Name: duration, dtype: int64"
      ]
     },
     "execution_count": 37,
     "metadata": {},
     "output_type": "execute_result"
    }
   ],
   "source": [
    "reg_traffic_with_flags.duration.isna().value_counts()"
   ]
  },
  {
   "cell_type": "code",
   "execution_count": 38,
   "metadata": {},
   "outputs": [
    {
     "data": {
      "text/plain": [
       "0.2837697268701519"
      ]
     },
     "execution_count": 38,
     "metadata": {},
     "output_type": "execute_result"
    }
   ],
   "source": [
    "181412/(181412+457881)"
   ]
  },
  {
   "cell_type": "code",
   "execution_count": 35,
   "metadata": {},
   "outputs": [
    {
     "data": {
      "text/html": [
       "<div>\n",
       "<style scoped>\n",
       "    .dataframe tbody tr th:only-of-type {\n",
       "        vertical-align: middle;\n",
       "    }\n",
       "\n",
       "    .dataframe tbody tr th {\n",
       "        vertical-align: top;\n",
       "    }\n",
       "\n",
       "    .dataframe thead th {\n",
       "        text-align: right;\n",
       "    }\n",
       "</style>\n",
       "<table border=\"1\" class=\"dataframe\">\n",
       "  <thead>\n",
       "    <tr style=\"text-align: right;\">\n",
       "      <th></th>\n",
       "      <th>conn_state</th>\n",
       "      <th>duration</th>\n",
       "      <th>history</th>\n",
       "      <th>id.orig_h</th>\n",
       "      <th>id.orig_p</th>\n",
       "      <th>id.resp_h</th>\n",
       "      <th>id.resp_p</th>\n",
       "      <th>local_orig</th>\n",
       "      <th>local_resp</th>\n",
       "      <th>missed_bytes</th>\n",
       "      <th>...</th>\n",
       "      <th>resp_pkts</th>\n",
       "      <th>service</th>\n",
       "      <th>ts</th>\n",
       "      <th>uid</th>\n",
       "      <th>row_id</th>\n",
       "      <th>honeypot_flag</th>\n",
       "      <th>Time_stamp</th>\n",
       "      <th>Hour</th>\n",
       "      <th>Day</th>\n",
       "      <th>Month</th>\n",
       "    </tr>\n",
       "  </thead>\n",
       "  <tbody>\n",
       "    <tr>\n",
       "      <th>0</th>\n",
       "      <td>S0</td>\n",
       "      <td>NaN</td>\n",
       "      <td>S</td>\n",
       "      <td>46.182.25.42</td>\n",
       "      <td>60000</td>\n",
       "      <td>128.143.67.25</td>\n",
       "      <td>8000</td>\n",
       "      <td>F</td>\n",
       "      <td>F</td>\n",
       "      <td>0</td>\n",
       "      <td>...</td>\n",
       "      <td>-</td>\n",
       "      <td>-</td>\n",
       "      <td>1527307194.170627</td>\n",
       "      <td>CI1zj1iwKyHwKBBx9</td>\n",
       "      <td>0</td>\n",
       "      <td>0.0</td>\n",
       "      <td>2018-05-25 23:59:54</td>\n",
       "      <td>23</td>\n",
       "      <td>25</td>\n",
       "      <td>5</td>\n",
       "    </tr>\n",
       "    <tr>\n",
       "      <th>1</th>\n",
       "      <td>RSTO</td>\n",
       "      <td>5.802564</td>\n",
       "      <td>ShADadfR</td>\n",
       "      <td>128.143.71.88</td>\n",
       "      <td>38652</td>\n",
       "      <td>52.3.226.246</td>\n",
       "      <td>80</td>\n",
       "      <td>F</td>\n",
       "      <td>F</td>\n",
       "      <td>0</td>\n",
       "      <td>...</td>\n",
       "      <td>-</td>\n",
       "      <td>http</td>\n",
       "      <td>1527307188.411720</td>\n",
       "      <td>CqGWoa28t2nYR9UzJa</td>\n",
       "      <td>1</td>\n",
       "      <td>0.0</td>\n",
       "      <td>2018-05-25 23:59:48</td>\n",
       "      <td>23</td>\n",
       "      <td>25</td>\n",
       "      <td>5</td>\n",
       "    </tr>\n",
       "    <tr>\n",
       "      <th>2</th>\n",
       "      <td>S0</td>\n",
       "      <td>NaN</td>\n",
       "      <td>S</td>\n",
       "      <td>186.212.105.114</td>\n",
       "      <td>11204</td>\n",
       "      <td>128.143.137.226</td>\n",
       "      <td>23</td>\n",
       "      <td>F</td>\n",
       "      <td>F</td>\n",
       "      <td>0</td>\n",
       "      <td>...</td>\n",
       "      <td>-</td>\n",
       "      <td>-</td>\n",
       "      <td>1527307194.316096</td>\n",
       "      <td>C6RNAOaJg17ubLtH6</td>\n",
       "      <td>2</td>\n",
       "      <td>0.0</td>\n",
       "      <td>2018-05-25 23:59:54</td>\n",
       "      <td>23</td>\n",
       "      <td>25</td>\n",
       "      <td>5</td>\n",
       "    </tr>\n",
       "    <tr>\n",
       "      <th>3</th>\n",
       "      <td>S0</td>\n",
       "      <td>NaN</td>\n",
       "      <td>D</td>\n",
       "      <td>184.105.139.97</td>\n",
       "      <td>60205</td>\n",
       "      <td>199.111.218.190</td>\n",
       "      <td>177</td>\n",
       "      <td>F</td>\n",
       "      <td>F</td>\n",
       "      <td>0</td>\n",
       "      <td>...</td>\n",
       "      <td>-</td>\n",
       "      <td>-</td>\n",
       "      <td>1527307139.337981</td>\n",
       "      <td>CUgKV91onic5lFmCm5</td>\n",
       "      <td>3</td>\n",
       "      <td>0.0</td>\n",
       "      <td>2018-05-25 23:58:59</td>\n",
       "      <td>23</td>\n",
       "      <td>25</td>\n",
       "      <td>5</td>\n",
       "    </tr>\n",
       "    <tr>\n",
       "      <th>4</th>\n",
       "      <td>SF</td>\n",
       "      <td>119.972539</td>\n",
       "      <td>ShADadFfR</td>\n",
       "      <td>128.143.67.174</td>\n",
       "      <td>53649</td>\n",
       "      <td>23.13.154.167</td>\n",
       "      <td>443</td>\n",
       "      <td>F</td>\n",
       "      <td>F</td>\n",
       "      <td>0</td>\n",
       "      <td>...</td>\n",
       "      <td>-</td>\n",
       "      <td>ssl</td>\n",
       "      <td>1527307074.521843</td>\n",
       "      <td>CJJmEo2zIyALhBvzNe</td>\n",
       "      <td>4</td>\n",
       "      <td>0.0</td>\n",
       "      <td>2018-05-25 23:57:54</td>\n",
       "      <td>23</td>\n",
       "      <td>25</td>\n",
       "      <td>5</td>\n",
       "    </tr>\n",
       "  </tbody>\n",
       "</table>\n",
       "<p>5 rows × 26 columns</p>\n",
       "</div>"
      ],
      "text/plain": [
       "  conn_state    duration    history        id.orig_h id.orig_p  \\\n",
       "0         S0         NaN          S     46.182.25.42     60000   \n",
       "1       RSTO    5.802564   ShADadfR    128.143.71.88     38652   \n",
       "2         S0         NaN          S  186.212.105.114     11204   \n",
       "3         S0         NaN          D   184.105.139.97     60205   \n",
       "4         SF  119.972539  ShADadFfR   128.143.67.174     53649   \n",
       "\n",
       "         id.resp_h id.resp_p local_orig local_resp missed_bytes  ...   \\\n",
       "0    128.143.67.25      8000          F          F            0  ...    \n",
       "1     52.3.226.246        80          F          F            0  ...    \n",
       "2  128.143.137.226        23          F          F            0  ...    \n",
       "3  199.111.218.190       177          F          F            0  ...    \n",
       "4    23.13.154.167       443          F          F            0  ...    \n",
       "\n",
       "  resp_pkts service                 ts                 uid row_id  \\\n",
       "0         -       -  1527307194.170627   CI1zj1iwKyHwKBBx9      0   \n",
       "1         -    http  1527307188.411720  CqGWoa28t2nYR9UzJa      1   \n",
       "2         -       -  1527307194.316096   C6RNAOaJg17ubLtH6      2   \n",
       "3         -       -  1527307139.337981  CUgKV91onic5lFmCm5      3   \n",
       "4         -     ssl  1527307074.521843  CJJmEo2zIyALhBvzNe      4   \n",
       "\n",
       "  honeypot_flag           Time_stamp Hour Day Month  \n",
       "0           0.0  2018-05-25 23:59:54   23  25     5  \n",
       "1           0.0  2018-05-25 23:59:48   23  25     5  \n",
       "2           0.0  2018-05-25 23:59:54   23  25     5  \n",
       "3           0.0  2018-05-25 23:58:59   23  25     5  \n",
       "4           0.0  2018-05-25 23:57:54   23  25     5  \n",
       "\n",
       "[5 rows x 26 columns]"
      ]
     },
     "execution_count": 35,
     "metadata": {},
     "output_type": "execute_result"
    }
   ],
   "source": [
    "reg_traffic_with_flags.head()"
   ]
  },
  {
   "cell_type": "markdown",
   "metadata": {},
   "source": [
    "## Plots to show the difference between Honeypot and Regular Traffic data"
   ]
  },
  {
   "cell_type": "markdown",
   "metadata": {},
   "source": [
    "#### Modularized plot methods"
   ]
  },
  {
   "cell_type": "code",
   "execution_count": 55,
   "metadata": {},
   "outputs": [],
   "source": [
    "plt.rcParams['figure.figsize'] = [15, 5]"
   ]
  },
  {
   "cell_type": "code",
   "execution_count": 83,
   "metadata": {},
   "outputs": [],
   "source": [
    "class plot_analysis:\n",
    "    def __init__(self,reg_traffic_with_flags):\n",
    "        self.reg_traffic_with_flags = reg_traffic_with_flags\n",
    "    \n",
    "    \n",
    "    ## Plots to show the Frequency of attacks of malicious IPs - hourly, daily and monthly\n",
    "    def frequency_of_attack(self,freq_type = \"HOUR\"):\n",
    "        \n",
    "        self.honeypot_data = self.reg_traffic_with_flags[reg_traffic_with_flags.honeypot_flag == 1]\n",
    "        \n",
    "        print(\"TESTING\")\n",
    "        if(freq_type.upper() == \"HOUR\"):\n",
    "            plot = self.honeypot_data['Hour'].value_counts().plot(kind = 'bar')\n",
    "            summary = self.honeypot_data['Hour'].value_counts(normalize = True)* 100\n",
    "        \n",
    "        if(freq_type.upper() == \"DAY\"):\n",
    "            plot = self.honeypot_data['Day'].value_counts().plot(kind = 'bar')\n",
    "            summary = self.honeypot_data['Day'].value_counts(normalize = True)* 100\n",
    "        \n",
    "        if(freq_type.upper() == \"MONTH\"):\n",
    "            plot = self.honeypot_data['Month'].value_counts().plot(kind = 'bar')\n",
    "            summary = self.honeypot_data['Month'].value_counts(normalize = True)* 100\n",
    "            \n",
    "        return plot,summary\n",
    "    \n",
    "    ## Returns Top n IP addresses for normal and malicious traffic\n",
    "    def top_n_IPs(self,n_val):\n",
    "        \n",
    "        ip_couts = self.reg_traffic_with_flags[['honeypot_flag','id.orig_h','id.resp_h']].groupby(['honeypot_flag','id.orig_h']).count().rename(columns = {'id.resp_h':'count'})\n",
    "        top_ips = pd.DataFrame(ip_couts['count'].groupby(level=0, group_keys=False).nlargest(n_val))\n",
    "        return(top_ips)\n",
    "    \n",
    "    ## Returns Top n IP addresses for normal and malicious traffic\n",
    "    def top_n_ports(self,n_ports):\n",
    "        \n",
    "        ports_by_group = self.reg_traffic_with_flags[['honeypot_flag','id.resp_p','row_id']].groupby(['honeypot_flag','id.resp_p']).count()\n",
    "        top_ports = pd.DataFrame(ports_by_group['row_id'].groupby(level=0, group_keys=False).nlargest(n_ports))\n",
    "        self.ports_0 = top_ports[top_ports.index.labels[0] == 0]\n",
    "        self.ports_1 = top_ports[top_ports.index.labels[0] == 1]\n",
    "        \n",
    "        return(self.ports_0,self.ports_1)\n",
    "    \n",
    "    \n",
    "    ## Bar chart for top n_ports \n",
    "    ## Normal traffic : traffic_type ==0 | Maclicious traffic : traffic_type ==0 \n",
    "    def top_n_port_plots(self,n_val,traffic_type=1):\n",
    "        \n",
    "        self.top_n_ports(n_val)\n",
    "        \n",
    "        if(traffic_type == 0):\n",
    "            y_pos = np.arange(len(self.ports_0.row_id.values))\n",
    "            y_obj = [self.ports_0.index.levels[1][each] for each in self.ports_0.index.labels[1]]\n",
    "            plt.bar(y_pos,self.ports_0.row_id.values)\n",
    "\n",
    "        if(traffic_type == 1):\n",
    "            y_pos = np.arange(len(self.ports_1.row_id.values))\n",
    "            y_obj = [self.ports_1.index.levels[1][each] for each in self.ports_1.index.labels[1]]\n",
    "            plt.bar(y_pos,self.ports_1.row_id.values)\n",
    "        \n",
    "        plt.xticks(y_pos, y_obj)\n",
    "        plt.ylabel(\"Number of occurrence\")\n",
    "        plt.title('Top ports for normal traffic')\n",
    "\n",
    "        return plt\n",
    "    \n",
    "    def proto_proportions(self):\n",
    "        reg_proto = self.reg_traffic_with_flags[self.reg_traffic_with_flags.honeypot_flag ==0].proto.value_counts(normalize = True) * 100\n",
    "        honey_proto = self.reg_traffic_with_flags[self.reg_traffic_with_flags.honeypot_flag ==1].proto.value_counts(normalize = True) * 100\n",
    "        \n",
    "        return reg_proto, honey_proto\n",
    "    \n",
    "    ### CREATES DISTRIBUTIONS ACROSS DIFFERENT PROTOTYPES - TCP, UDP, ICMP\n",
    "\n",
    "    def proto_distribution(self, traffic_type = 1, scale = \"log\"):\n",
    "        \n",
    "        \n",
    "        \n",
    "        self.reg_traffic_with_flags['orig_bytes_num'] = pd.to_numeric(self.reg_traffic_with_flags['orig_bytes'], errors = \"coerce\")\n",
    "        Non_na_data = self.reg_traffic_with_flags[~np.isnan(self.reg_traffic_with_flags.orig_bytes_num)]\n",
    "        \n",
    "        reg_traffic = Non_na_data[Non_na_data.honeypot_flag == 0]\n",
    "        honeypot_traffic = Non_na_data[Non_na_data.honeypot_flag == 1]\n",
    "        \n",
    "        cols = ['red','blue','green']\n",
    "        proto_unique = Non_na_data.proto.unique()\n",
    "            \n",
    "        \n",
    "        if scale == \"log\":\n",
    "            reg_traffic['orig_bytes'] = np.log(reg_traffic.orig_bytes+0.001)\n",
    "            honeypot_traffic['orig_bytes'] = np.log(honeypot_traffic.orig_bytes+0.001)\n",
    "            \n",
    "        if(traffic_type == 1):\n",
    "             \n",
    "            for each in range(len(proto_unique)):\n",
    "            \n",
    "                sns.distplot(honeypot_traffic.orig_bytes[honeypot_traffic.proto == proto_unique[each]],bins=int(180/5), hist=False, kde=True,color = cols[each], \n",
    "                             hist_kws={'edgecolor':'black'},\n",
    "                             kde_kws={'linewidth': 3},label = proto_unique[each])\n",
    "        \n",
    "        elif(traffic_type == 0):\n",
    "            for each in range(len(proto_unique)):\n",
    "            \n",
    "                sns.distplot(reg_traffic.orig_bytes[reg_traffic.proto == proto_unique[each]],bins=int(180/5), hist=False, kde=True,color = cols[each], \n",
    "                             hist_kws={'edgecolor':'black'},\n",
    "                             kde_kws={'linewidth': 3},label = proto_unique[each])\n",
    "          \n",
    "    ### DURATION ANALYSIS - LOG AND NORMAL SCALE\n",
    "    \n",
    "    def duration_analysis(self,scale = \"normal\"):\n",
    "        # Histogram by group - based on honeypot IPs\n",
    "        self.reg_traffic_with_flags['duration'] = pd.to_numeric(self.reg_traffic_with_flags['duration'],errors = \"coerce\")\n",
    "        if(scale == \"normal\"):\n",
    "            p1 = self.reg_traffic_with_flags['duration'].hist(by=self.reg_traffic_with_flags['honeypot_flag'])\n",
    "        elif(scale == \"log\"):\n",
    "            #### Analysing the histogram of logs\n",
    "            p1 = np.log(self.reg_traffic_with_flags['duration']).hist(by=self.reg_traffic_with_flags['honeypot_flag'])\n",
    "            #print(\"DURATION ANALYSIS USING LOG FOR NORMAL AND HONEYPOT TRAFFIC\")\n",
    "        return p1\n",
    "        \n",
    " "
   ]
  },
  {
   "cell_type": "markdown",
   "metadata": {},
   "source": [
    "## Creating objects for the class \"plot_analysis\""
   ]
  },
  {
   "cell_type": "code",
   "execution_count": 57,
   "metadata": {},
   "outputs": [],
   "source": [
    "plots = plot_analysis(reg_traffic_with_flags)"
   ]
  },
  {
   "cell_type": "markdown",
   "metadata": {},
   "source": [
    "####  Frequency of attack"
   ]
  },
  {
   "cell_type": "code",
   "execution_count": 58,
   "metadata": {},
   "outputs": [
    {
     "name": "stdout",
     "output_type": "stream",
     "text": [
      "TESTING\n"
     ]
    },
    {
     "data": {
      "text/plain": [
       "(<matplotlib.axes._subplots.AxesSubplot at 0x2c184577c88>, 26    99.486498\n",
       " 25     0.513502\n",
       " Name: Day, dtype: float64)"
      ]
     },
     "execution_count": 58,
     "metadata": {},
     "output_type": "execute_result"
    },
    {
     "data": {
      "image/png": "[encoded data removed]",
      "text/plain": [
       "<matplotlib.figure.Figure at 0x2c182f33b00>"
      ]
     },
     "metadata": {},
     "output_type": "display_data"
    }
   ],
   "source": [
    "plots.frequency_of_attack(\"DAY\")"
   ]
  },
  {
   "cell_type": "markdown",
   "metadata": {},
   "source": [
    "#### Top n IP addresses in normal and malicious traffic"
   ]
  },
  {
   "cell_type": "code",
   "execution_count": 59,
   "metadata": {},
   "outputs": [
    {
     "data": {
      "text/html": [
       "<div>\n",
       "<style scoped>\n",
       "    .dataframe tbody tr th:only-of-type {\n",
       "        vertical-align: middle;\n",
       "    }\n",
       "\n",
       "    .dataframe tbody tr th {\n",
       "        vertical-align: top;\n",
       "    }\n",
       "\n",
       "    .dataframe thead th {\n",
       "        text-align: right;\n",
       "    }\n",
       "</style>\n",
       "<table border=\"1\" class=\"dataframe\">\n",
       "  <thead>\n",
       "    <tr style=\"text-align: right;\">\n",
       "      <th></th>\n",
       "      <th></th>\n",
       "      <th>count</th>\n",
       "    </tr>\n",
       "    <tr>\n",
       "      <th>honeypot_flag</th>\n",
       "      <th>id.orig_h</th>\n",
       "      <th></th>\n",
       "    </tr>\n",
       "  </thead>\n",
       "  <tbody>\n",
       "    <tr>\n",
       "      <th rowspan=\"5\" valign=\"top\">0.0</th>\n",
       "      <th>128.143.136.134</th>\n",
       "      <td>26396</td>\n",
       "    </tr>\n",
       "    <tr>\n",
       "      <th>199.111.226.137</th>\n",
       "      <td>16900</td>\n",
       "    </tr>\n",
       "    <tr>\n",
       "      <th>128.143.67.11</th>\n",
       "      <td>16899</td>\n",
       "    </tr>\n",
       "    <tr>\n",
       "      <th>113.96.223.207</th>\n",
       "      <td>12609</td>\n",
       "    </tr>\n",
       "    <tr>\n",
       "      <th>128.143.69.101</th>\n",
       "      <td>11420</td>\n",
       "    </tr>\n",
       "    <tr>\n",
       "      <th rowspan=\"5\" valign=\"top\">1.0</th>\n",
       "      <th>73.163.210.243</th>\n",
       "      <td>3806</td>\n",
       "    </tr>\n",
       "    <tr>\n",
       "      <th>185.94.111.1</th>\n",
       "      <td>1859</td>\n",
       "    </tr>\n",
       "    <tr>\n",
       "      <th>185.232.28.194</th>\n",
       "      <td>1715</td>\n",
       "    </tr>\n",
       "    <tr>\n",
       "      <th>178.73.215.171</th>\n",
       "      <td>1114</td>\n",
       "    </tr>\n",
       "    <tr>\n",
       "      <th>199.111.227.207</th>\n",
       "      <td>789</td>\n",
       "    </tr>\n",
       "  </tbody>\n",
       "</table>\n",
       "</div>"
      ],
      "text/plain": [
       "                               count\n",
       "honeypot_flag id.orig_h             \n",
       "0.0           128.143.136.134  26396\n",
       "              199.111.226.137  16900\n",
       "              128.143.67.11    16899\n",
       "              113.96.223.207   12609\n",
       "              128.143.69.101   11420\n",
       "1.0           73.163.210.243    3806\n",
       "              185.94.111.1      1859\n",
       "              185.232.28.194    1715\n",
       "              178.73.215.171    1114\n",
       "              199.111.227.207    789"
      ]
     },
     "execution_count": 59,
     "metadata": {},
     "output_type": "execute_result"
    }
   ],
   "source": [
    "plots.top_n_IPs(5)"
   ]
  },
  {
   "cell_type": "markdown",
   "metadata": {},
   "source": [
    "#### Top n ports in normal and malicious traffic"
   ]
  },
  {
   "cell_type": "code",
   "execution_count": 60,
   "metadata": {},
   "outputs": [
    {
     "name": "stdout",
     "output_type": "stream",
     "text": [
      "                         row_id\n",
      "honeypot_flag id.resp_p        \n",
      "0.0           443        127281\n",
      "              80          77587\n",
      "              23          34117\n",
      "              53          27392\n",
      "              22          22822\n",
      "              1433        17077\n",
      "              8080        16261\n",
      "              19          15710\n",
      "              5060         7922\n",
      "              10           6824\n",
      "                         row_id\n",
      "honeypot_flag id.resp_p        \n",
      "1.0           19           3821\n",
      "              520          1874\n",
      "              23           1215\n",
      "              5901         1164\n",
      "              443           800\n",
      "              8080          472\n",
      "              30000         413\n",
      "              5432          399\n",
      "              80            368\n",
      "              10            363\n"
     ]
    }
   ],
   "source": [
    "normal,malicious = plots.top_n_ports(10)\n",
    "print(normal)\n",
    "print(malicious)"
   ]
  },
  {
   "cell_type": "markdown",
   "metadata": {},
   "source": [
    "#### Top n pots - bar chart"
   ]
  },
  {
   "cell_type": "code",
   "execution_count": 61,
   "metadata": {},
   "outputs": [
    {
     "data": {
      "text/plain": [
       "<module 'matplotlib.pyplot' from 'C:\\\\Users\\\\arvra\\\\Anaconda3\\\\lib\\\\site-packages\\\\matplotlib\\\\pyplot.py'>"
      ]
     },
     "execution_count": 61,
     "metadata": {},
     "output_type": "execute_result"
    },
    {
     "data": {
      "image/png": "[encoded data removed]",
      "text/plain": [
       "<matplotlib.figure.Figure at 0x2c1842eb7f0>"
      ]
     },
     "metadata": {},
     "output_type": "display_data"
    }
   ],
   "source": [
    "plots.top_n_port_plots(10,traffic_type = 1) #Normal traffic top 10 ports"
   ]
  },
  {
   "cell_type": "code",
   "execution_count": 62,
   "metadata": {},
   "outputs": [
    {
     "data": {
      "text/plain": [
       "<module 'matplotlib.pyplot' from 'C:\\\\Users\\\\arvra\\\\Anaconda3\\\\lib\\\\site-packages\\\\matplotlib\\\\pyplot.py'>"
      ]
     },
     "execution_count": 62,
     "metadata": {},
     "output_type": "execute_result"
    },
    {
     "data": {
      "image/png": "[encoded data removed]",
      "text/plain": [
       "<matplotlib.figure.Figure at 0x2c18473c7f0>"
      ]
     },
     "metadata": {},
     "output_type": "display_data"
    }
   ],
   "source": [
    "plots.top_n_port_plots(10,traffic_type = 1) #Malicious traffic top 10 ports"
   ]
  },
  {
   "cell_type": "markdown",
   "metadata": {},
   "source": [
    "#### Prototype proportions"
   ]
  },
  {
   "cell_type": "code",
   "execution_count": 63,
   "metadata": {},
   "outputs": [
    {
     "name": "stdout",
     "output_type": "stream",
     "text": [
      "tcp     79.258343\n",
      "udp     17.846512\n",
      "icmp     2.895145\n",
      "Name: proto, dtype: float64\n",
      "tcp     65.801660\n",
      "udp     32.327725\n",
      "icmp     1.870616\n",
      "Name: proto, dtype: float64\n"
     ]
    }
   ],
   "source": [
    "normal,malicous = plots.proto_proportions()\n",
    "print(normal)\n",
    "print(malicous)"
   ]
  },
  {
   "cell_type": "markdown",
   "metadata": {},
   "source": [
    "#### Prototype distributions"
   ]
  },
  {
   "cell_type": "code",
   "execution_count": 64,
   "metadata": {},
   "outputs": [
    {
     "name": "stderr",
     "output_type": "stream",
     "text": [
      "C:\\Users\\arvra\\Anaconda3\\lib\\site-packages\\ipykernel_launcher.py:89: SettingWithCopyWarning: \n",
      "A value is trying to be set on a copy of a slice from a DataFrame.\n",
      "Try using .loc[row_indexer,col_indexer] = value instead\n",
      "\n",
      "See the caveats in the documentation: http://pandas.pydata.org/pandas-docs/stable/indexing.html#indexing-view-versus-copy\n",
      "C:\\Users\\arvra\\Anaconda3\\lib\\site-packages\\ipykernel_launcher.py:90: SettingWithCopyWarning: \n",
      "A value is trying to be set on a copy of a slice from a DataFrame.\n",
      "Try using .loc[row_indexer,col_indexer] = value instead\n",
      "\n",
      "See the caveats in the documentation: http://pandas.pydata.org/pandas-docs/stable/indexing.html#indexing-view-versus-copy\n"
     ]
    },
    {
     "data": {
      "image/png": "[encoded data removed]",
      "text/plain": [
       "<matplotlib.figure.Figure at 0x2c180b63a20>"
      ]
     },
     "metadata": {},
     "output_type": "display_data"
    }
   ],
   "source": [
    "plots.proto_distribution(traffic_type = 0,scale = \"log\") #Normal traffic log scale"
   ]
  },
  {
   "cell_type": "code",
   "execution_count": 65,
   "metadata": {},
   "outputs": [
    {
     "name": "stderr",
     "output_type": "stream",
     "text": [
      "C:\\Users\\arvra\\Anaconda3\\lib\\site-packages\\ipykernel_launcher.py:89: SettingWithCopyWarning: \n",
      "A value is trying to be set on a copy of a slice from a DataFrame.\n",
      "Try using .loc[row_indexer,col_indexer] = value instead\n",
      "\n",
      "See the caveats in the documentation: http://pandas.pydata.org/pandas-docs/stable/indexing.html#indexing-view-versus-copy\n",
      "C:\\Users\\arvra\\Anaconda3\\lib\\site-packages\\ipykernel_launcher.py:90: SettingWithCopyWarning: \n",
      "A value is trying to be set on a copy of a slice from a DataFrame.\n",
      "Try using .loc[row_indexer,col_indexer] = value instead\n",
      "\n",
      "See the caveats in the documentation: http://pandas.pydata.org/pandas-docs/stable/indexing.html#indexing-view-versus-copy\n",
      "C:\\Users\\arvra\\Anaconda3\\lib\\site-packages\\numpy\\core\\_methods.py:135: RuntimeWarning: Degrees of freedom <= 0 for slice\n",
      "  keepdims=keepdims)\n",
      "C:\\Users\\arvra\\Anaconda3\\lib\\site-packages\\numpy\\core\\_methods.py:127: RuntimeWarning: invalid value encountered in double_scalars\n",
      "  ret = ret.dtype.type(ret / rcount)\n",
      "C:\\Users\\arvra\\Anaconda3\\lib\\site-packages\\statsmodels\\nonparametric\\bandwidths.py:22: RuntimeWarning: invalid value encountered in minimum\n",
      "  return np.minimum(np.std(X, axis=0, ddof=1), IQR)\n",
      "C:\\Users\\arvra\\Anaconda3\\lib\\site-packages\\numpy\\core\\_methods.py:26: RuntimeWarning: invalid value encountered in reduce\n",
      "  return umr_maximum(a, axis, None, out, keepdims)\n"
     ]
    },
    {
     "data": {
      "image/png": "[encoded data removed]",
      "text/plain": [
       "<matplotlib.figure.Figure at 0x2c184460cc0>"
      ]
     },
     "metadata": {},
     "output_type": "display_data"
    }
   ],
   "source": [
    "plots.proto_distribution(traffic_type = 1,scale = \"log\") #Malicious traffic log scale"
   ]
  },
  {
   "cell_type": "markdown",
   "metadata": {},
   "source": [
    "#### Duration Distribution"
   ]
  },
  {
   "cell_type": "code",
   "execution_count": 66,
   "metadata": {},
   "outputs": [
    {
     "data": {
      "text/plain": [
       "array([<matplotlib.axes._subplots.AxesSubplot object at 0x000002C1847D54E0>,\n",
       "       <matplotlib.axes._subplots.AxesSubplot object at 0x000002C18473C860>],\n",
       "      dtype=object)"
      ]
     },
     "execution_count": 66,
     "metadata": {},
     "output_type": "execute_result"
    },
    {
     "data": {
      "image/png": "[encoded data removed]",
      "text/plain": [
       "<matplotlib.figure.Figure at 0x2c181cef2e8>"
      ]
     },
     "metadata": {},
     "output_type": "display_data"
    }
   ],
   "source": [
    "plots.duration_analysis(scale = \"log\") #Distribution analysis for Normal and Malicious traffic in log scale"
   ]
  }
 ],
 "metadata": {
  "kernelspec": {
   "display_name": "Python 3",
   "language": "python",
   "name": "python3"
  },
  "language_info": {
   "codemirror_mode": {
    "name": "ipython",
    "version": 3
   },
   "file_extension": ".py",
   "mimetype": "text/x-python",
   "name": "python",
   "nbconvert_exporter": "python",
   "pygments_lexer": "ipython3",
   "version": "3.6.4"
  }
 },
 "nbformat": 4,
 "nbformat_minor": 2
}
