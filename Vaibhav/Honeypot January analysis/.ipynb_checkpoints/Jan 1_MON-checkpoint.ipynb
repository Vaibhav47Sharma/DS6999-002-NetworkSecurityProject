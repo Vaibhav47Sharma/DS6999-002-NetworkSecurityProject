{
 "cells": [
  {
   "cell_type": "code",
   "execution_count": 2,
   "metadata": {},
   "outputs": [],
   "source": [
    "import csv, datetime, pandas as pd"
   ]
  },
  {
   "cell_type": "markdown",
   "metadata": {},
   "source": [
    "# Read data for January 1"
   ]
  },
  {
   "cell_type": "code",
   "execution_count": 3,
   "metadata": {},
   "outputs": [
    {
     "name": "stdout",
     "output_type": "stream",
     "text": [
      "(3453, 12)\n"
     ]
    }
   ],
   "source": [
    "file = 'C:\\\\Users\\\\vaibhav\\\\Documents\\\\UVA\\\\Summer\\\\Project\\\\Code\\\\Vaibhav\\\\HoneypotCSV\\\\2018-01-01-mhn.csv'\n",
    "\n",
    "parse_dates = ['timestamp']\n",
    "data = pd.read_csv(file, parse_dates = parse_dates, date_parser = lambda x: datetime.datetime.fromtimestamp(float(x)))\n",
    "pd.to_datetime(data['timestamp'])\n",
    "print(data.shape)"
   ]
  },
  {
   "cell_type": "markdown",
   "metadata": {},
   "source": [
    "Finding out unique sources"
   ]
  },
  {
   "cell_type": "code",
   "execution_count": 4,
   "metadata": {},
   "outputs": [
    {
     "name": "stdout",
     "output_type": "stream",
     "text": [
      "996\n"
     ]
    }
   ],
   "source": [
    "unique_src = data.src.unique()\n",
    "print(len(unique_src))"
   ]
  },
  {
   "cell_type": "markdown",
   "metadata": {},
   "source": [
    "Unique ip sources frequency table"
   ]
  },
  {
   "cell_type": "code",
   "execution_count": 5,
   "metadata": {},
   "outputs": [
    {
     "name": "stdout",
     "output_type": "stream",
     "text": [
      "        Unique src  Count\n",
      "452  185.107.94.10    374\n",
      "622   207.38.90.73    346\n",
      "900    77.72.82.72    316\n",
      "972   93.115.26.45    144\n",
      "714  222.72.41.178     96\n"
     ]
    }
   ],
   "source": [
    "df = data.groupby('src').size().reset_index(name='Count').rename(columns={'src':'Unique src'}).sort_values('Count', ascending = False)\n",
    "print(df.head())"
   ]
  },
  {
   "cell_type": "raw",
   "metadata": {},
   "source": [
    "Top hitting app"
   ]
  },
  {
   "cell_type": "code",
   "execution_count": 6,
   "metadata": {},
   "outputs": [
    {
     "name": "stdout",
     "output_type": "stream",
     "text": [
      "  Unique app  Count\n",
      "1    dionaea   3193\n",
      "0       amun    260\n"
     ]
    }
   ],
   "source": [
    "df = data.groupby('app').size().reset_index(name='Count').rename(columns={'app':'Unique app'}).sort_values('Count', ascending = False)\n",
    "print(df)"
   ]
  },
  {
   "cell_type": "markdown",
   "metadata": {},
   "source": [
    "Grouping by timestamp"
   ]
  },
  {
   "cell_type": "code",
   "execution_count": 7,
   "metadata": {},
   "outputs": [
    {
     "name": "stdout",
     "output_type": "stream",
     "text": [
      "            timestamp  Count\n",
      "0 2017-12-31 06:53:22      1\n",
      "1 2017-12-31 06:54:22      1\n",
      "2 2017-12-31 06:55:02      1\n",
      "3 2017-12-31 06:55:12      2\n",
      "4 2017-12-31 06:55:42      1\n"
     ]
    }
   ],
   "source": [
    "df = data.groupby('timestamp').size().reset_index(name='Count')\n",
    "print(df.head())"
   ]
  },
  {
   "cell_type": "code",
   "execution_count": 8,
   "metadata": {},
   "outputs": [
    {
     "name": "stdout",
     "output_type": "stream",
     "text": [
      "    Hour  Count\n",
      "0      0    125\n",
      "1      1    202\n",
      "2      2    105\n",
      "3      3     99\n",
      "4      4     97\n",
      "5      5     95\n",
      "6      6    113\n",
      "7      7    170\n",
      "8      8    164\n",
      "9      9    159\n",
      "10    10    143\n",
      "11    11    217\n",
      "12    12    166\n",
      "13    13    162\n",
      "14    14    140\n",
      "15    15    157\n",
      "16    16    146\n",
      "17    17    120\n",
      "18    18    137\n",
      "19    19    107\n",
      "20    20    134\n",
      "21    21    135\n",
      "22    22    235\n",
      "23    23    125\n"
     ]
    }
   ],
   "source": [
    "time_series = data.groupby(data.timestamp.dt.hour).size().reset_index(name='Count').rename(columns={'timestamp':'Hour'})\n",
    "print(time_series)"
   ]
  },
  {
   "cell_type": "markdown",
   "metadata": {},
   "source": [
    "## Bar chart of time stamp count"
   ]
  },
  {
   "cell_type": "code",
   "execution_count": 10,
   "metadata": {},
   "outputs": [
    {
     "data": {
      "text/plain": [
       "<matplotlib.axes._subplots.AxesSubplot at 0x23f8ed47a20>"
      ]
     },
     "execution_count": 10,
     "metadata": {},
     "output_type": "execute_result"
    },
    {
     "data": {
      "image/png": "[encoded data removed]",
      "text/plain": [
       "<Figure size 432x288 with 1 Axes>"
      ]
     },
     "metadata": {},
     "output_type": "display_data"
    }
   ],
   "source": [
    "time_series.plot(kind='bar', x = 'Hour', y = 'Count')"
   ]
  }
 ],
 "metadata": {
  "kernelspec": {
   "display_name": "Python 3",
   "language": "python",
   "name": "python3"
  },
  "language_info": {
   "codemirror_mode": {
    "name": "ipython",
    "version": 3
   },
   "file_extension": ".py",
   "mimetype": "text/x-python",
   "name": "python",
   "nbconvert_exporter": "python",
   "pygments_lexer": "ipython3",
   "version": "3.6.5"
  }
 },
 "nbformat": 4,
 "nbformat_minor": 2
}
