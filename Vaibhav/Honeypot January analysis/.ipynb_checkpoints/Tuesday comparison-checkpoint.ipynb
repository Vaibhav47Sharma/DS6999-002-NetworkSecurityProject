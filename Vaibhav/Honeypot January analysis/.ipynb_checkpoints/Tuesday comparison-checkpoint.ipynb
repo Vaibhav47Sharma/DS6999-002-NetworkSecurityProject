{
 "cells": [
  {
   "cell_type": "markdown",
   "metadata": {},
   "source": [
    "# Comparison of the Tuesdays for the Month of January"
   ]
  },
  {
   "cell_type": "code",
   "execution_count": 1,
   "metadata": {},
   "outputs": [],
   "source": [
    "import csv, datetime, pandas as pd"
   ]
  },
  {
   "cell_type": "markdown",
   "metadata": {},
   "source": [
    "Reading data"
   ]
  },
  {
   "cell_type": "code",
   "execution_count": 2,
   "metadata": {},
   "outputs": [
    {
     "name": "stdout",
     "output_type": "stream",
     "text": [
      "(4797, 12)\n",
      "(2865, 12)\n",
      "(4380, 12)\n",
      "(9367, 12)\n",
      "(2854, 12)\n"
     ]
    }
   ],
   "source": [
    "file = 'C:\\\\Users\\\\vaibhav\\\\Documents\\\\UVA\\\\Summer\\\\Project\\\\Code\\\\Vaibhav\\\\HoneypotCSV\\\\2018-01-02-mhn.csv'\n",
    "parse_dates = ['timestamp']\n",
    "jan_2_data = pd.read_csv(file, parse_dates = parse_dates, date_parser = lambda x: datetime.datetime.fromtimestamp(float(x)))\n",
    "pd.to_datetime(jan_2_data['timestamp'])\n",
    "print(jan_2_data.shape)\n",
    "\n",
    "file = 'C:\\\\Users\\\\vaibhav\\\\Documents\\\\UVA\\\\Summer\\\\Project\\\\Code\\\\Vaibhav\\\\HoneypotCSV\\\\2018-01-09-mhn.csv'\n",
    "parse_dates = ['timestamp']\n",
    "jan_9_data = pd.read_csv(file, parse_dates = parse_dates, date_parser = lambda x: datetime.datetime.fromtimestamp(float(x)))\n",
    "pd.to_datetime(jan_9_data['timestamp'])\n",
    "print(jan_9_data.shape)\n",
    "\n",
    "file = 'C:\\\\Users\\\\vaibhav\\\\Documents\\\\UVA\\\\Summer\\\\Project\\\\Code\\\\Vaibhav\\\\HoneypotCSV\\\\2018-01-16-mhn.csv'\n",
    "parse_dates = ['timestamp']\n",
    "jan_16_data = pd.read_csv(file, parse_dates = parse_dates, date_parser = lambda x: datetime.datetime.fromtimestamp(float(x)))\n",
    "pd.to_datetime(jan_16_data['timestamp'])\n",
    "print(jan_16_data.shape)\n",
    "\n",
    "file = 'C:\\\\Users\\\\vaibhav\\\\Documents\\\\UVA\\\\Summer\\\\Project\\\\Code\\\\Vaibhav\\\\HoneypotCSV\\\\2018-01-23-mhn.csv'\n",
    "parse_dates = ['timestamp']\n",
    "jan_23_data = pd.read_csv(file, parse_dates = parse_dates, date_parser = lambda x: datetime.datetime.fromtimestamp(float(x)))\n",
    "pd.to_datetime(jan_23_data['timestamp'])\n",
    "print(jan_23_data.shape)\n",
    "\n",
    "file = 'C:\\\\Users\\\\vaibhav\\\\Documents\\\\UVA\\\\Summer\\\\Project\\\\Code\\\\Vaibhav\\\\HoneypotCSV\\\\2018-01-30-mhn.csv'\n",
    "parse_dates = ['timestamp']\n",
    "jan_30_data = pd.read_csv(file, parse_dates = parse_dates, date_parser = lambda x: datetime.datetime.fromtimestamp(float(x)))\n",
    "pd.to_datetime(jan_30_data['timestamp'])\n",
    "print(jan_30_data.shape)"
   ]
  },
  {
   "cell_type": "markdown",
   "metadata": {},
   "source": [
    "Merging all Tuesday's data frames"
   ]
  },
  {
   "cell_type": "code",
   "execution_count": 5,
   "metadata": {},
   "outputs": [],
   "source": [
    "common = pd.merge(jan_2_data, jan_9_data, on = ['src'], how = 'inner')"
   ]
  },
  {
   "cell_type": "code",
   "execution_count": 6,
   "metadata": {},
   "outputs": [],
   "source": [
    "unique_ips = common.src.unique()"
   ]
  },
  {
   "cell_type": "code",
   "execution_count": 9,
   "metadata": {},
   "outputs": [],
   "source": [
    "common = jan_16_data.loc[jan_16_data['src'].isin(unique_ips)]\n",
    "unique_ips = common.src.unique()"
   ]
  },
  {
   "cell_type": "code",
   "execution_count": 10,
   "metadata": {},
   "outputs": [],
   "source": [
    "common = jan_23_data.loc[jan_23_data['src'].isin(unique_ips)]\n",
    "unique_ips = common.src.unique()"
   ]
  },
  {
   "cell_type": "code",
   "execution_count": 13,
   "metadata": {},
   "outputs": [],
   "source": [
    "common = jan_30_data.loc[jan_30_data['src'].isin(unique_ips)]\n",
    "unique_ips = common.src.unique()"
   ]
  },
  {
   "cell_type": "code",
   "execution_count": 14,
   "metadata": {},
   "outputs": [
    {
     "name": "stdout",
     "output_type": "stream",
     "text": [
      "['95.215.1.37' '77.72.82.147' '5.188.10.144' '216.158.238.178'\n",
      " '185.130.212.167' '216.158.239.226' '74.82.47.3' '216.158.238.186'\n",
      " '77.72.82.80' '5.101.0.9' '216.158.238.210' '5.101.40.10' '181.214.87.12'\n",
      " '5.188.86.140' '46.174.191.30' '80.82.77.139' '209.126.136.4'\n",
      " '80.82.77.33' '58.218.213.45' '209.126.136.5' '60.191.38.78'\n",
      " '58.218.205.102' '185.207.205.93' '181.214.87.11' '139.162.102.46']\n",
      "25\n"
     ]
    }
   ],
   "source": [
    "print(unique_ips)\n",
    "print(len(unique_ips))"
   ]
  },
  {
   "cell_type": "code",
   "execution_count": 15,
   "metadata": {},
   "outputs": [],
   "source": [
    "with open('C:\\\\Users\\\\vaibhav\\\\Documents\\\\UVA\\\\Summer\\\\Project\\\\Code\\\\Vaibhav\\\\Jan week 1\\\\Weekwise.csv', 'a', newline = '') as myfile:\n",
    "    wr = csv.writer(myfile, delimiter = ',')\n",
    "    wr.writerow(unique_ips)"
   ]
  }
 ],
 "metadata": {
  "kernelspec": {
   "display_name": "Python 3",
   "language": "python",
   "name": "python3"
  },
  "language_info": {
   "codemirror_mode": {
    "name": "ipython",
    "version": 3
   },
   "file_extension": ".py",
   "mimetype": "text/x-python",
   "name": "python",
   "nbconvert_exporter": "python",
   "pygments_lexer": "ipython3",
   "version": "3.6.5"
  }
 },
 "nbformat": 4,
 "nbformat_minor": 2
}
