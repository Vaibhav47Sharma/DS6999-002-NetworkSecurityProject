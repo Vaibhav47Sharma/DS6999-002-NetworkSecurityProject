{
 "cells": [
  {
   "cell_type": "markdown",
   "metadata": {},
   "source": [
    "# Comparison of the Fridays for the Month of January"
   ]
  },
  {
   "cell_type": "code",
   "execution_count": 1,
   "metadata": {},
   "outputs": [],
   "source": [
    "import csv, datetime, pandas as pd"
   ]
  },
  {
   "cell_type": "markdown",
   "metadata": {},
   "source": [
    "Reading data"
   ]
  },
  {
   "cell_type": "code",
   "execution_count": 2,
   "metadata": {},
   "outputs": [
    {
     "name": "stdout",
     "output_type": "stream",
     "text": [
      "(3397, 12)\n",
      "(2874, 12)\n",
      "(2955, 12)\n",
      "(4620, 12)\n"
     ]
    }
   ],
   "source": [
    "file = 'C:\\\\Users\\\\vaibhav\\\\Documents\\\\UVA\\\\Summer\\\\Project\\\\Code\\\\Vaibhav\\\\HoneypotCSV\\\\2018-01-05-mhn.csv'\n",
    "parse_dates = ['timestamp']\n",
    "jan_5_data = pd.read_csv(file, parse_dates = parse_dates, date_parser = lambda x: datetime.datetime.fromtimestamp(float(x)))\n",
    "pd.to_datetime(jan_5_data['timestamp'])\n",
    "print(jan_5_data.shape)\n",
    "\n",
    "file = 'C:\\\\Users\\\\vaibhav\\\\Documents\\\\UVA\\\\Summer\\\\Project\\\\Code\\\\Vaibhav\\\\HoneypotCSV\\\\2018-01-12-mhn.csv'\n",
    "parse_dates = ['timestamp']\n",
    "jan_12_data = pd.read_csv(file, parse_dates = parse_dates, date_parser = lambda x: datetime.datetime.fromtimestamp(float(x)))\n",
    "pd.to_datetime(jan_12_data['timestamp'])\n",
    "print(jan_12_data.shape)\n",
    "\n",
    "file = 'C:\\\\Users\\\\vaibhav\\\\Documents\\\\UVA\\\\Summer\\\\Project\\\\Code\\\\Vaibhav\\\\HoneypotCSV\\\\2018-01-19-mhn.csv'\n",
    "parse_dates = ['timestamp']\n",
    "jan_19_data = pd.read_csv(file, parse_dates = parse_dates, date_parser = lambda x: datetime.datetime.fromtimestamp(float(x)))\n",
    "pd.to_datetime(jan_19_data['timestamp'])\n",
    "print(jan_19_data.shape)\n",
    "\n",
    "file = 'C:\\\\Users\\\\vaibhav\\\\Documents\\\\UVA\\\\Summer\\\\Project\\\\Code\\\\Vaibhav\\\\HoneypotCSV\\\\2018-01-26-mhn.csv'\n",
    "parse_dates = ['timestamp']\n",
    "jan_26_data = pd.read_csv(file, parse_dates = parse_dates, date_parser = lambda x: datetime.datetime.fromtimestamp(float(x)))\n",
    "pd.to_datetime(jan_26_data['timestamp'])\n",
    "print(jan_26_data.shape)"
   ]
  },
  {
   "cell_type": "code",
   "execution_count": 3,
   "metadata": {},
   "outputs": [],
   "source": [
    "common = pd.merge(jan_5_data, jan_12_data, on = ['src'], how = 'inner')"
   ]
  },
  {
   "cell_type": "code",
   "execution_count": 4,
   "metadata": {},
   "outputs": [],
   "source": [
    "unique_ips = common.src.unique()"
   ]
  },
  {
   "cell_type": "code",
   "execution_count": 5,
   "metadata": {},
   "outputs": [],
   "source": [
    "common = jan_19_data.loc[jan_19_data['src'].isin(unique_ips)]\n",
    "unique_ips = common.src.unique()"
   ]
  },
  {
   "cell_type": "code",
   "execution_count": 6,
   "metadata": {},
   "outputs": [],
   "source": [
    "common = jan_26_data.loc[jan_26_data['src'].isin(unique_ips)]\n",
    "unique_ips = common.src.unique()"
   ]
  },
  {
   "cell_type": "code",
   "execution_count": 7,
   "metadata": {},
   "outputs": [
    {
     "name": "stdout",
     "output_type": "stream",
     "text": [
      "['5.188.203.131' '95.215.1.37' '5.188.86.40' '5.188.10.144'\n",
      " '216.158.239.226' '181.214.87.12' '5.188.86.41' '77.72.82.80'\n",
      " '216.158.238.210' '80.211.132.218' '220.181.159.77' '80.82.77.139'\n",
      " '216.158.238.178' '80.82.77.33' '218.95.250.226' '146.0.77.21'\n",
      " '77.72.82.147' '58.218.205.102' '60.191.38.78' '46.174.191.30'\n",
      " '216.158.238.186' '46.174.191.28' '125.64.94.201' '58.218.213.45'\n",
      " '219.147.95.246' '93.174.95.106' '185.207.205.93' '2.105.13.142'\n",
      " '5.101.40.10' '5.101.0.9' '181.214.87.11' '5.188.10.179' '209.126.136.4'\n",
      " '85.93.20.34' '209.126.136.5' '5.188.86.12' '191.101.167.83']\n",
      "37\n"
     ]
    }
   ],
   "source": [
    "print(unique_ips)\n",
    "print(len(unique_ips))"
   ]
  },
  {
   "cell_type": "code",
   "execution_count": 8,
   "metadata": {},
   "outputs": [],
   "source": [
    "with open('C:\\\\Users\\\\vaibhav\\\\Documents\\\\UVA\\\\Summer\\\\Project\\\\Code\\\\Vaibhav\\\\Jan week 1\\\\Weekwise.csv', 'a', newline = '') as myfile:\n",
    "    wr = csv.writer(myfile, delimiter = ',')\n",
    "    wr.writerow(unique_ips)"
   ]
  }
 ],
 "metadata": {
  "kernelspec": {
   "display_name": "Python 3",
   "language": "python",
   "name": "python3"
  },
  "language_info": {
   "codemirror_mode": {
    "name": "ipython",
    "version": 3
   },
   "file_extension": ".py",
   "mimetype": "text/x-python",
   "name": "python",
   "nbconvert_exporter": "python",
   "pygments_lexer": "ipython3",
   "version": "3.6.5"
  }
 },
 "nbformat": 4,
 "nbformat_minor": 2
}
