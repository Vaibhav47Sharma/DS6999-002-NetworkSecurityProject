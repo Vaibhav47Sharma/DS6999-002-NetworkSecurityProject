{
 "cells": [
  {
   "cell_type": "markdown",
   "metadata": {},
   "source": [
    "# Comparison of the Thursdays for the Month of January"
   ]
  },
  {
   "cell_type": "code",
   "execution_count": 1,
   "metadata": {},
   "outputs": [],
   "source": [
    "import csv, datetime, pandas as pd"
   ]
  },
  {
   "cell_type": "markdown",
   "metadata": {},
   "source": [
    "Reading data"
   ]
  },
  {
   "cell_type": "code",
   "execution_count": 2,
   "metadata": {},
   "outputs": [
    {
     "name": "stdout",
     "output_type": "stream",
     "text": [
      "(3241, 12)\n",
      "(3243, 12)\n",
      "(3489, 12)\n",
      "(3325, 12)\n"
     ]
    }
   ],
   "source": [
    "file = 'C:\\\\Users\\\\vaibhav\\\\Documents\\\\UVA\\\\Summer\\\\Project\\\\Code\\\\Vaibhav\\\\HoneypotCSV\\\\2018-01-04-mhn.csv'\n",
    "parse_dates = ['timestamp']\n",
    "jan_4_data = pd.read_csv(file, parse_dates = parse_dates, date_parser = lambda x: datetime.datetime.fromtimestamp(float(x)))\n",
    "pd.to_datetime(jan_4_data['timestamp'])\n",
    "print(jan_4_data.shape)\n",
    "\n",
    "file = 'C:\\\\Users\\\\vaibhav\\\\Documents\\\\UVA\\\\Summer\\\\Project\\\\Code\\\\Vaibhav\\\\HoneypotCSV\\\\2018-01-11-mhn.csv'\n",
    "parse_dates = ['timestamp']\n",
    "jan_11_data = pd.read_csv(file, parse_dates = parse_dates, date_parser = lambda x: datetime.datetime.fromtimestamp(float(x)))\n",
    "pd.to_datetime(jan_11_data['timestamp'])\n",
    "print(jan_11_data.shape)\n",
    "\n",
    "file = 'C:\\\\Users\\\\vaibhav\\\\Documents\\\\UVA\\\\Summer\\\\Project\\\\Code\\\\Vaibhav\\\\HoneypotCSV\\\\2018-01-18-mhn.csv'\n",
    "parse_dates = ['timestamp']\n",
    "jan_18_data = pd.read_csv(file, parse_dates = parse_dates, date_parser = lambda x: datetime.datetime.fromtimestamp(float(x)))\n",
    "pd.to_datetime(jan_18_data['timestamp'])\n",
    "print(jan_18_data.shape)\n",
    "\n",
    "file = 'C:\\\\Users\\\\vaibhav\\\\Documents\\\\UVA\\\\Summer\\\\Project\\\\Code\\\\Vaibhav\\\\HoneypotCSV\\\\2018-01-25-mhn.csv'\n",
    "parse_dates = ['timestamp']\n",
    "jan_25_data = pd.read_csv(file, parse_dates = parse_dates, date_parser = lambda x: datetime.datetime.fromtimestamp(float(x)))\n",
    "pd.to_datetime(jan_25_data['timestamp'])\n",
    "print(jan_25_data.shape)"
   ]
  },
  {
   "cell_type": "markdown",
   "metadata": {},
   "source": [
    "Merging data"
   ]
  },
  {
   "cell_type": "code",
   "execution_count": 3,
   "metadata": {},
   "outputs": [],
   "source": [
    "common = pd.merge(jan_4_data, jan_11_data, on = ['src'], how = 'inner')"
   ]
  },
  {
   "cell_type": "code",
   "execution_count": 4,
   "metadata": {},
   "outputs": [],
   "source": [
    "unique_ips = common.src.unique()"
   ]
  },
  {
   "cell_type": "code",
   "execution_count": 5,
   "metadata": {},
   "outputs": [],
   "source": [
    "common = jan_18_data.loc[jan_18_data['src'].isin(unique_ips)]\n",
    "unique_ips = common.src.unique()"
   ]
  },
  {
   "cell_type": "code",
   "execution_count": 6,
   "metadata": {},
   "outputs": [],
   "source": [
    "common = jan_25_data.loc[jan_25_data['src'].isin(unique_ips)]\n",
    "unique_ips = common.src.unique()"
   ]
  },
  {
   "cell_type": "code",
   "execution_count": 7,
   "metadata": {},
   "outputs": [
    {
     "name": "stdout",
     "output_type": "stream",
     "text": [
      "['191.101.167.77' '5.188.10.144' '95.215.1.37' '5.188.86.40'\n",
      " '216.158.238.178' '185.130.212.167' '181.214.87.12' '71.6.146.186'\n",
      " '216.158.238.210' '80.82.77.139' '5.101.40.10' '164.132.136.165'\n",
      " '58.218.213.45' '181.214.87.11' '146.0.77.21' '111.121.193.195'\n",
      " '202.101.6.82' '216.158.238.186' '77.72.82.147' '113.195.145.80'\n",
      " '216.158.239.226' '58.218.205.102' '77.72.82.80' '93.174.95.106'\n",
      " '71.6.146.185' '58.218.200.24' '66.240.205.34' '218.95.250.150'\n",
      " '141.105.69.190' '46.174.191.29' '185.94.111.1' '5.101.0.9'\n",
      " '60.191.38.78' '220.181.159.77' '89.248.172.16' '202.243.77.110'\n",
      " '80.82.77.33' '209.126.136.5' '46.174.191.28']\n",
      "39\n"
     ]
    }
   ],
   "source": [
    "print(unique_ips)\n",
    "print(len(unique_ips))"
   ]
  },
  {
   "cell_type": "code",
   "execution_count": 8,
   "metadata": {},
   "outputs": [],
   "source": [
    "with open('C:\\\\Users\\\\vaibhav\\\\Documents\\\\UVA\\\\Summer\\\\Project\\\\Code\\\\Vaibhav\\\\Jan week 1\\\\Weekwise.csv', 'a', newline = '') as myfile:\n",
    "    wr = csv.writer(myfile, delimiter = ',')\n",
    "    wr.writerow(unique_ips)"
   ]
  }
 ],
 "metadata": {
  "kernelspec": {
   "display_name": "Python 3",
   "language": "python",
   "name": "python3"
  },
  "language_info": {
   "codemirror_mode": {
    "name": "ipython",
    "version": 3
   },
   "file_extension": ".py",
   "mimetype": "text/x-python",
   "name": "python",
   "nbconvert_exporter": "python",
   "pygments_lexer": "ipython3",
   "version": "3.6.5"
  }
 },
 "nbformat": 4,
 "nbformat_minor": 2
}
